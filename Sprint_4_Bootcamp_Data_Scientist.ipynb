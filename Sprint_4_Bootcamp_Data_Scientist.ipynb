{
 "cells": [
  {
   "cell_type": "markdown",
   "id": "3Xg_RQfnafXz",
   "metadata": {
    "id": "3Xg_RQfnafXz"
   },
   "source": [
    "# ¡Llena ese carrito!"
   ]
  },
  {
   "cell_type": "markdown",
   "id": "mhIvmmkW414q",
   "metadata": {
    "id": "mhIvmmkW414q"
   },
   "source": [
    "# Introducción\n",
    "\n",
    "Instacart es una plataforma de entregas de comestibles donde la clientela puede registrar un pedido y hacer que se lo entreguen, similar a Uber Eats y Door Dash.\n",
    "El conjunto de datos que te hemos proporcionado tiene modificaciones del original. Redujimos el tamaño del conjunto para que tus cálculos se hicieran más rápido e introdujimos valores ausentes y duplicados. Tuvimos cuidado de conservar las distribuciones de los datos originales cuando hicimos los cambios.\n",
    "\n",
    "Debes completar tres pasos. Para cada uno de ellos, escribe una breve introducción que refleje con claridad cómo pretendes resolver cada paso, y escribe párrafos explicatorios que justifiquen tus decisiones al tiempo que avanzas en tu solución.  También escribe una conclusión que resuma tus hallazgos y elecciones.\n"
   ]
  },
  {
   "cell_type": "markdown",
   "id": "3MbyzpOQZ5Or",
   "metadata": {
    "id": "3MbyzpOQZ5Or"
   },
   "source": [
    "## Diccionario de datos\n",
    "\n",
    "Hay cinco tablas en el conjunto de datos, y tendrás que usarlas todas para hacer el preprocesamiento de datos y el análisis exploratorio de datos. A continuación se muestra un diccionario de datos que enumera las columnas de cada tabla y describe los datos que contienen.\n",
    "\n",
    "- `instacart_orders.csv`: cada fila corresponde a un pedido en la aplicación Instacart.\n",
    "    - `'order_id'`: número de ID que identifica de manera única cada pedido.\n",
    "    - `'user_id'`: número de ID que identifica de manera única la cuenta de cada cliente.\n",
    "    - `'order_number'`: el número de veces que este cliente ha hecho un pedido.\n",
    "    - `'order_dow'`: día de la semana en que se hizo el pedido (0 si es domingo).\n",
    "    - `'order_hour_of_day'`: hora del día en que se hizo el pedido.\n",
    "    - `'days_since_prior_order'`: número de días transcurridos desde que este cliente hizo su pedido anterior.\n",
    "- `products.csv`: cada fila corresponde a un producto único que pueden comprar los clientes.\n",
    "    - `'product_id'`: número ID que identifica de manera única cada producto.\n",
    "    - `'product_name'`: nombre del producto.\n",
    "    - `'aisle_id'`: número ID que identifica de manera única cada categoría de pasillo de víveres.\n",
    "    - `'department_id'`: número ID que identifica de manera única cada departamento de víveres.\n",
    "- `order_products.csv`: cada fila corresponde a un artículo pedido en un pedido.\n",
    "    - `'order_id'`: número de ID que identifica de manera única cada pedido.\n",
    "    - `'product_id'`: número ID que identifica de manera única cada producto.\n",
    "    - `'add_to_cart_order'`: el orden secuencial en el que se añadió cada artículo en el carrito.\n",
    "    - `'reordered'`: 0 si el cliente nunca ha pedido este producto antes, 1 si lo ha pedido.\n",
    "- `aisles.csv`\n",
    "    - `'aisle_id'`: número ID que identifica de manera única cada categoría de pasillo de víveres.\n",
    "    - `'aisle'`: nombre del pasillo.\n",
    "- `departments.csv`\n",
    "    - `'department_id'`: número ID que identifica de manera única cada departamento de víveres.\n",
    "    - `'department'`: nombre del departamento."
   ]
  },
  {
   "cell_type": "markdown",
   "id": "n3Ha_cNSZ8lK",
   "metadata": {
    "id": "n3Ha_cNSZ8lK"
   },
   "source": [
    "# Paso 1. Descripción de los datos\n",
    "\n",
    "Lee los archivos de datos (`/datasets/instacart_orders.csv`, `/datasets/products.csv`, `/datasets/aisles.csv`, `/datasets/departments.csv` y `/datasets/order_products.csv`) con `pd.read_csv()` usando los parámetros adecuados para leer los datos correctamente. Verifica la información para cada DataFrame creado.\n"
   ]
  },
  {
   "cell_type": "markdown",
   "id": "OmlQPLlyaAfR",
   "metadata": {
    "id": "OmlQPLlyaAfR"
   },
   "source": [
    "## Plan de solución\n",
    "\n",
    "Escribe aquí tu plan de solución para el Paso 1. Descripción de los datos."
   ]
  },
  {
   "cell_type": "code",
   "execution_count": 1,
   "id": "fbf1adab",
   "metadata": {
    "colab": {
     "base_uri": "https://localhost:8080/"
    },
    "id": "fbf1adab",
    "outputId": "ee6eb2c1-a41f-49fa-bb81-ead229c4c1a5"
   },
   "outputs": [
    {
     "name": "stdout",
     "output_type": "stream",
     "text": [
      "Requirement already satisfied: pandas in /usr/local/lib/python3.11/dist-packages (2.2.2)\n",
      "Requirement already satisfied: matplotlib in /usr/local/lib/python3.11/dist-packages (3.10.0)\n",
      "Requirement already satisfied: numpy>=1.23.2 in /usr/local/lib/python3.11/dist-packages (from pandas) (1.26.4)\n",
      "Requirement already satisfied: python-dateutil>=2.8.2 in /usr/local/lib/python3.11/dist-packages (from pandas) (2.8.2)\n",
      "Requirement already satisfied: pytz>=2020.1 in /usr/local/lib/python3.11/dist-packages (from pandas) (2024.2)\n",
      "Requirement already satisfied: tzdata>=2022.7 in /usr/local/lib/python3.11/dist-packages (from pandas) (2025.1)\n",
      "Requirement already satisfied: contourpy>=1.0.1 in /usr/local/lib/python3.11/dist-packages (from matplotlib) (1.3.1)\n",
      "Requirement already satisfied: cycler>=0.10 in /usr/local/lib/python3.11/dist-packages (from matplotlib) (0.12.1)\n",
      "Requirement already satisfied: fonttools>=4.22.0 in /usr/local/lib/python3.11/dist-packages (from matplotlib) (4.55.7)\n",
      "Requirement already satisfied: kiwisolver>=1.3.1 in /usr/local/lib/python3.11/dist-packages (from matplotlib) (1.4.8)\n",
      "Requirement already satisfied: packaging>=20.0 in /usr/local/lib/python3.11/dist-packages (from matplotlib) (24.2)\n",
      "Requirement already satisfied: pillow>=8 in /usr/local/lib/python3.11/dist-packages (from matplotlib) (11.1.0)\n",
      "Requirement already satisfied: pyparsing>=2.3.1 in /usr/local/lib/python3.11/dist-packages (from matplotlib) (3.2.1)\n",
      "Requirement already satisfied: six>=1.5 in /usr/local/lib/python3.11/dist-packages (from python-dateutil>=2.8.2->pandas) (1.17.0)\n"
     ]
    }
   ],
   "source": [
    "# importar librerías\n",
    "\n",
    "import pandas as pd\n",
    "import numpy as mp\n",
    "import matplotlib.pyplot as plt\n",
    "!pip install pandas matplotlib\n"
   ]
  },
  {
   "cell_type": "code",
   "execution_count": 2,
   "id": "ad36396d",
   "metadata": {
    "colab": {
     "base_uri": "https://localhost:8080/"
    },
    "id": "ad36396d",
    "outputId": "08642562-f480-4fe7-bc7b-d4af0d374881"
   },
   "outputs": [
    {
     "name": "stdout",
     "output_type": "stream",
     "text": [
      "aisles\n",
      "    aisle_id                       aisle\n",
      "0         1       prepared soups salads\n",
      "1         2           specialty cheeses\n",
      "2         3         energy granola bars\n",
      "3         4               instant foods\n",
      "4         5  marinades meat preparation\n",
      "\n",
      "departments\n",
      "    department_id department\n",
      "0              1     frozen\n",
      "1              2      other\n",
      "2              3     bakery\n",
      "3              4    produce\n",
      "4              5    alcohol\n",
      "\n",
      "instacart_orders\n",
      "    order_id  user_id  order_number  order_dow  order_hour_of_day  \\\n",
      "0   1515936   183418            11          6                 13   \n",
      "1   1690866   163593             5          5                 12   \n",
      "2   1454967    39980             4          5                 19   \n",
      "3   1768857    82516            56          0                 20   \n",
      "4   3007858   196724             2          4                 12   \n",
      "\n",
      "   days_since_prior_order  \n",
      "0                    30.0  \n",
      "1                     9.0  \n",
      "2                     2.0  \n",
      "3                    10.0  \n",
      "4                    17.0  \n",
      "\n",
      "order_products\n",
      "    order_id  product_id  add_to_cart_order  reordered\n",
      "0   2141543       11440               17.0          0\n",
      "1    567889        1560                1.0          1\n",
      "2   2261212       26683                1.0          1\n",
      "3    491251        8670               35.0          1\n",
      "4   2571142        1940                5.0          1\n",
      "\n",
      "products\n",
      "    product_id                                       product_name  aisle_id  \\\n",
      "0           1                         Chocolate Sandwich Cookies        61   \n",
      "1           2                                   All-Seasons Salt       104   \n",
      "2           3               Robust Golden Unsweetened Oolong Tea        94   \n",
      "3           4  Smart Ones Classic Favorites Mini Rigatoni Wit...        38   \n",
      "4           5                          Green Chile Anytime Sauce         5   \n",
      "\n",
      "   department_id  \n",
      "0             19  \n",
      "1             13  \n",
      "2              7  \n",
      "3              1  \n",
      "4             13  \n"
     ]
    }
   ],
   "source": [
    "# leer conjuntos de datos en los DataFrames. Separador ;\n",
    "\n",
    "aisles = pd.read_csv('/aisles.csv', sep=';')\n",
    "depart = pd.read_csv('/departments.csv', sep=';')\n",
    "instacart = pd.read_csv('/instacart_orders.csv', sep=';')\n",
    "order_products = pd.read_csv('/order_products.csv', sep=';')\n",
    "products = pd.read_csv('/products.csv', sep=';')\n",
    "\n",
    "# Verificamos las primeras 5 filas de las bases de datos\n",
    "\n",
    "print('aisles\\n', aisles.head())\n",
    "print()\n",
    "print('departments\\n', depart.head())\n",
    "print()\n",
    "print('instacart_orders\\n', instacart.head())\n",
    "print()\n",
    "print('order_products\\n', order_products.head())\n",
    "print()\n",
    "print('products\\n', products.head())"
   ]
  },
  {
   "cell_type": "code",
   "execution_count": 3,
   "id": "FerFLDFXv-5x",
   "metadata": {
    "colab": {
     "base_uri": "https://localhost:8080/"
    },
    "id": "FerFLDFXv-5x",
    "outputId": "a95f41ed-f264-49ec-8c1f-fa419b4f6eb2"
   },
   "outputs": [
    {
     "name": "stdout",
     "output_type": "stream",
     "text": [
      "<class 'pandas.core.frame.DataFrame'>\n",
      "RangeIndex: 134 entries, 0 to 133\n",
      "Data columns (total 2 columns):\n",
      " #   Column    Non-Null Count  Dtype \n",
      "---  ------    --------------  ----- \n",
      " 0   aisle_id  134 non-null    int64 \n",
      " 1   aisle     134 non-null    object\n",
      "dtypes: int64(1), object(1)\n",
      "memory usage: 2.2+ KB\n",
      "aisles\n",
      " None\n",
      "\n",
      "<class 'pandas.core.frame.DataFrame'>\n",
      "RangeIndex: 21 entries, 0 to 20\n",
      "Data columns (total 2 columns):\n",
      " #   Column         Non-Null Count  Dtype \n",
      "---  ------         --------------  ----- \n",
      " 0   department_id  21 non-null     int64 \n",
      " 1   department     21 non-null     object\n",
      "dtypes: int64(1), object(1)\n",
      "memory usage: 468.0+ bytes\n",
      "departments\n",
      " None\n",
      "\n",
      "<class 'pandas.core.frame.DataFrame'>\n",
      "RangeIndex: 478967 entries, 0 to 478966\n",
      "Data columns (total 6 columns):\n",
      " #   Column                  Non-Null Count   Dtype  \n",
      "---  ------                  --------------   -----  \n",
      " 0   order_id                478967 non-null  int64  \n",
      " 1   user_id                 478967 non-null  int64  \n",
      " 2   order_number            478967 non-null  int64  \n",
      " 3   order_dow               478967 non-null  int64  \n",
      " 4   order_hour_of_day       478967 non-null  int64  \n",
      " 5   days_since_prior_order  450148 non-null  float64\n",
      "dtypes: float64(1), int64(5)\n",
      "memory usage: 21.9 MB\n",
      "instacart_orders\n",
      " None\n",
      "\n",
      "<class 'pandas.core.frame.DataFrame'>\n",
      "RangeIndex: 4545007 entries, 0 to 4545006\n",
      "Data columns (total 4 columns):\n",
      " #   Column             Non-Null Count    Dtype  \n",
      "---  ------             --------------    -----  \n",
      " 0   order_id           4545007 non-null  int64  \n",
      " 1   product_id         4545007 non-null  int64  \n",
      " 2   add_to_cart_order  4544171 non-null  float64\n",
      " 3   reordered          4545007 non-null  int64  \n",
      "dtypes: float64(1), int64(3)\n",
      "memory usage: 138.7 MB\n",
      "order_products\n",
      " None\n",
      "\n",
      "<class 'pandas.core.frame.DataFrame'>\n",
      "RangeIndex: 49694 entries, 0 to 49693\n",
      "Data columns (total 4 columns):\n",
      " #   Column         Non-Null Count  Dtype \n",
      "---  ------         --------------  ----- \n",
      " 0   product_id     49694 non-null  int64 \n",
      " 1   product_name   48436 non-null  object\n",
      " 2   aisle_id       49694 non-null  int64 \n",
      " 3   department_id  49694 non-null  int64 \n",
      "dtypes: int64(3), object(1)\n",
      "memory usage: 1.5+ MB\n",
      "products\n",
      " None\n",
      "\n",
      "37951414.0\n",
      "\n",
      "0          17.0\n",
      "1           1.0\n",
      "2           1.0\n",
      "3          35.0\n",
      "4           5.0\n",
      "           ... \n",
      "4545002    12.0\n",
      "4545003     9.0\n",
      "4545004     4.0\n",
      "4545005     8.0\n",
      "4545006     9.0\n",
      "Name: add_to_cart_order, Length: 4545007, dtype: float64\n",
      "\n",
      "4997431.0\n",
      "\n",
      "0         30.0\n",
      "1          9.0\n",
      "2          2.0\n",
      "3         10.0\n",
      "4         17.0\n",
      "          ... \n",
      "478962     7.0\n",
      "478963     6.0\n",
      "478964     6.0\n",
      "478965     8.0\n",
      "478966    15.0\n",
      "Name: days_since_prior_order, Length: 478967, dtype: float64\n"
     ]
    }
   ],
   "source": [
    "#Verificamos info de cada base de datos para ver valores faltantes\n",
    "\n",
    "print('aisles\\n', aisles.info())\n",
    "print()\n",
    "print('departments\\n', depart.info())\n",
    "print()\n",
    "print('instacart_orders\\n', instacart.info())\n",
    "print()\n",
    "print('order_products\\n', order_products.info(show_counts=True))\n",
    "print()\n",
    "print('products\\n', products.info())\n",
    "print()\n",
    "#Verificamos por qué las variables mencionadas abajo aparecen como decimales siendo enteros\n",
    "print(order_products['add_to_cart_order'].sum())\n",
    "print()\n",
    "print(order_products['add_to_cart_order'])\n",
    "print()\n",
    "print(instacart['days_since_prior_order'].sum())\n",
    "print()\n",
    "print(instacart['days_since_prior_order'])"
   ]
  },
  {
   "cell_type": "code",
   "execution_count": 4,
   "id": "ad6a1efa",
   "metadata": {
    "colab": {
     "base_uri": "https://localhost:8080/"
    },
    "id": "ad6a1efa",
    "outputId": "74b3d443-ae8a-47e2-eb87-3e532579e5cf"
   },
   "outputs": [
    {
     "name": "stdout",
     "output_type": "stream",
     "text": [
      "(478967, 6)\n",
      "\n",
      "(49694, 4)\n",
      "\n",
      "(134, 2)\n",
      "\n",
      "(21, 2)\n",
      "\n",
      "(4545007, 4)\n",
      "\n"
     ]
    }
   ],
   "source": [
    "#Verificamos con shape cuántas filas y columnas tiene cada DataFrame\n",
    "\n",
    "print(instacart.shape)\n",
    "print()\n",
    "print(products.shape)\n",
    "print()\n",
    "print(aisles.shape)\n",
    "print()\n",
    "print(depart.shape)\n",
    "print()\n",
    "print(order_products.shape)\n",
    "print()\n",
    "\n",
    "#La base mas grande la tiene order_products con 4545007 filas. Mientras que departments solo tiene 21 filas"
   ]
  },
  {
   "cell_type": "code",
   "execution_count": 5,
   "id": "5130e05e",
   "metadata": {
    "colab": {
     "base_uri": "https://localhost:8080/"
    },
    "id": "5130e05e",
    "outputId": "4e5baa36-2e38-4f45-ac37-fa6f5da438b2"
   },
   "outputs": [
    {
     "name": "stdout",
     "output_type": "stream",
     "text": [
      "aisles\n",
      " aisle_id    0\n",
      "aisle       0\n",
      "dtype: int64\n",
      "\n",
      "departments\n",
      " department_id    0\n",
      "department       0\n",
      "dtype: int64\n",
      "\n",
      "instacart_orders\n",
      " order_id                      0\n",
      "user_id                       0\n",
      "order_number                  0\n",
      "order_dow                     0\n",
      "order_hour_of_day             0\n",
      "days_since_prior_order    28819\n",
      "dtype: int64\n",
      "\n",
      "order_products\n",
      " order_id               0\n",
      "product_id             0\n",
      "add_to_cart_order    836\n",
      "reordered              0\n",
      "dtype: int64\n",
      "\n",
      "products\n",
      " product_id          0\n",
      "product_name     1258\n",
      "aisle_id            0\n",
      "department_id       0\n",
      "dtype: int64\n"
     ]
    }
   ],
   "source": [
    "#Verificamos valores faltantes con isnull().sum()\n",
    "print('aisles\\n', aisles.isna().sum())\n",
    "print()\n",
    "print('departments\\n', depart.isna().sum())\n",
    "print()\n",
    "print('instacart_orders\\n', instacart.isna().sum())\n",
    "print()\n",
    "print('order_products\\n', order_products.isna().sum())\n",
    "print()\n",
    "print('products\\n', products.isna().sum())"
   ]
  },
  {
   "cell_type": "code",
   "execution_count": 6,
   "id": "d8370c05",
   "metadata": {
    "colab": {
     "base_uri": "https://localhost:8080/"
    },
    "id": "d8370c05",
    "outputId": "d6a959bc-4f6e-46c8-bcc7-6943a9a9a8d5"
   },
   "outputs": [
    {
     "name": "stdout",
     "output_type": "stream",
     "text": [
      "aisles\n",
      "          aisle_id\n",
      "count  134.000000\n",
      "mean    67.500000\n",
      "std     38.826537\n",
      "min      1.000000\n",
      "25%     34.250000\n",
      "50%     67.500000\n",
      "75%    100.750000\n",
      "max    134.000000\n",
      "\n",
      "departments\n",
      "        department_id\n",
      "count      21.000000\n",
      "mean       11.000000\n",
      "std         6.204837\n",
      "min         1.000000\n",
      "25%         6.000000\n",
      "50%        11.000000\n",
      "75%        16.000000\n",
      "max        21.000000\n",
      "\n",
      "instacart_orders\n",
      "            order_id        user_id   order_number      order_dow  \\\n",
      "count  4.789670e+05  478967.000000  478967.000000  478967.000000   \n",
      "mean   1.709947e+06  102966.537475      17.157808       2.775058   \n",
      "std    9.869480e+05   59525.328991      17.704688       2.045869   \n",
      "min    4.000000e+00       2.000000       1.000000       0.000000   \n",
      "25%    8.564685e+05   51414.000000       5.000000       1.000000   \n",
      "50%    1.709522e+06  102633.000000      11.000000       3.000000   \n",
      "75%    2.562990e+06  154419.000000      23.000000       5.000000   \n",
      "max    3.421079e+06  206209.000000     100.000000       6.000000   \n",
      "\n",
      "       order_hour_of_day  days_since_prior_order  \n",
      "count      478967.000000           450148.000000  \n",
      "mean           13.446676               11.101751  \n",
      "std             4.224986                9.189975  \n",
      "min             0.000000                0.000000  \n",
      "25%            10.000000                4.000000  \n",
      "50%            13.000000                7.000000  \n",
      "75%            16.000000               15.000000  \n",
      "max            23.000000               30.000000  \n",
      "\n",
      "order_products\n",
      "            order_id    product_id  add_to_cart_order     reordered\n",
      "count  4.545007e+06  4.545007e+06       4.544171e+06  4.545007e+06\n",
      "mean   1.711166e+06  2.558084e+04       8.351669e+00  5.905025e-01\n",
      "std    9.850955e+05  1.409552e+04       7.080368e+00  4.917411e-01\n",
      "min    4.000000e+00  1.000000e+00       1.000000e+00  0.000000e+00\n",
      "25%    8.608170e+05  1.353500e+04       3.000000e+00  0.000000e+00\n",
      "50%    1.711530e+06  2.527200e+04       6.000000e+00  1.000000e+00\n",
      "75%    2.561311e+06  3.793500e+04       1.100000e+01  1.000000e+00\n",
      "max    3.421079e+06  4.969400e+04       6.400000e+01  1.000000e+00\n",
      "\n",
      "products\n",
      "          product_id      aisle_id  department_id\n",
      "count  49694.000000  49694.000000   49694.000000\n",
      "mean   24847.500000     67.773192      11.728478\n",
      "std    14345.566475     38.317265       5.850314\n",
      "min        1.000000      1.000000       1.000000\n",
      "25%    12424.250000     35.000000       7.000000\n",
      "50%    24847.500000     69.000000      13.000000\n",
      "75%    37270.750000    100.000000      17.000000\n",
      "max    49694.000000    134.000000      21.000000\n"
     ]
    }
   ],
   "source": [
    "#Verificamos estadistica descriptiva\n",
    "print('aisles\\n', aisles.describe())\n",
    "print()\n",
    "print('departments\\n', depart.describe())\n",
    "print()\n",
    "print('instacart_orders\\n', instacart.describe())\n",
    "print()\n",
    "print('order_products\\n', order_products.describe())\n",
    "print()\n",
    "print('products\\n', products.describe())"
   ]
  },
  {
   "cell_type": "markdown",
   "id": "t75BD19oaR5f",
   "metadata": {
    "id": "t75BD19oaR5f"
   },
   "source": [
    "## Conclusiones\n",
    "\n",
    "Escribe aquí tus conclusiones intermedias sobre el Paso 1. Descripción de los datos.\n",
    "\n",
    "#### Valores faltantes\n",
    "\n",
    "La variable days_since_prior_order de la base instacart_orders tiene **28819** valores ausentes\n",
    "\n",
    "La variable product_name de la base products tiene **1258** valores ausentes\n",
    "\n",
    "La variable add_to_cart_order de la base order_products tiene **836** valores ausentes\n",
    "\n",
    " #### Adicionales\n",
    "\n",
    " Variables como days_since_prior_order y add_to_cart_order son tipo decimal (float), donde deberían ser enteros (int). Tiene .0 al final, por eso los leen como decimal\n",
    "\n",
    " Variables como order_id, user_id, order_dow, product_id, aisle_id, department_id, reordered, a pesar de ser de tipo entero (int), son variables categóricas. reordered es booleano.\n",
    "\n",
    "\n",
    "\n"
   ]
  },
  {
   "cell_type": "markdown",
   "id": "8RJHqxVmaVsF",
   "metadata": {
    "id": "8RJHqxVmaVsF"
   },
   "source": [
    "# Paso 2. Preprocesamiento de los datos\n",
    "\n",
    "Preprocesa los datos de la siguiente manera:\n",
    "\n",
    "- Verifica y corrige los tipos de datos (por ejemplo, asegúrate de que las columnas de ID sean números enteros).\n",
    "- Identifica y completa los valores ausentes.\n",
    "- Identifica y elimina los valores duplicados.\n",
    "\n",
    "Asegúrate de explicar qué tipos de valores ausentes y duplicados encontraste, cómo los completaste o eliminaste y por qué usaste esos métodos. ¿Por qué crees que estos valores ausentes y duplicados pueden haber estado presentes en el conjunto de datos?"
   ]
  },
  {
   "cell_type": "markdown",
   "id": "p6poABZQaZYb",
   "metadata": {
    "id": "p6poABZQaZYb"
   },
   "source": [
    "## Plan de solución\n",
    "\n",
    "Escribe aquí tu plan para el Paso 2. Preprocesamiento de los datos."
   ]
  },
  {
   "cell_type": "markdown",
   "id": "ax5msL6r-W3i",
   "metadata": {
    "id": "ax5msL6r-W3i"
   },
   "source": [
    "1. Con .info() pudimos observar superficialmente el tipo de cada variable y si hay valores ausentes o no. En el caso de las variables id, los tipos de datos son números enteros (int).\n",
    "\n",
    "2. Procedemos a identificar valores ausentes. Sabemos que hay 3 variables con valores ausentes. Para esto usamos .isna() para detectar estas filas y encontrar una justificación detrás. Posteriormente, decidimos si eliminamos las filas con valores ausentes usando .dropna(), o si reemplazamos los valores ausentes con otro valor utilizando .fillna().\n",
    "\n",
    "3. Con .duplicated() podemos encontrar valores duplicados explícitos. Estos valores se pueden procesar con .drop_duplicates(), y luego podemos resetear el índice con .reset_index().\n",
    "\n",
    "4. Para encontrar valores implícitos, realizamos un ejercicio filtrando de la base instacart_orders las órdenes de los días miércoles a las 2 p.m. Con .nunique() podemos contar los valores únicos y compararlos con el total de filas, identificando si hay user_id repetidos. Con .value_counts() podemos contar la frecuencia de los user_id repetidos y, filtrándolos, podemos analizar la razón detrás, determinando si son duplicados explícitos o no."
   ]
  },
  {
   "cell_type": "markdown",
   "id": "07357848-dc64-4156-9cc3-01ff4365226d",
   "metadata": {
    "id": "07357848-dc64-4156-9cc3-01ff4365226d"
   },
   "source": [
    "## Encuentra y elimina los valores duplicados (y describe cómo tomaste tus decisiones)."
   ]
  },
  {
   "cell_type": "code",
   "execution_count": 7,
   "id": "b99297a5-405a-463d-8535-9adc3da4ad74",
   "metadata": {
    "colab": {
     "base_uri": "https://localhost:8080/"
    },
    "id": "b99297a5-405a-463d-8535-9adc3da4ad74",
    "outputId": "add9278a-7a4e-407f-a636-1afe8c23ea14"
   },
   "outputs": [
    {
     "name": "stdout",
     "output_type": "stream",
     "text": [
      "aisles\n",
      " 0\n",
      "\n",
      "departments\n",
      " 0\n",
      "\n",
      "instacart_orders\n",
      " 15\n",
      "\n",
      "order_products\n",
      " 0\n",
      "\n",
      "products\n",
      " 0\n"
     ]
    }
   ],
   "source": [
    "# Revisamos duplicados explícitos\n",
    "\n",
    "print('aisles\\n', aisles.duplicated().sum())\n",
    "print()\n",
    "print('departments\\n', depart.duplicated().sum())\n",
    "print()\n",
    "print('instacart_orders\\n', instacart.duplicated().sum()) #Tiene 15 duplicados\n",
    "print()\n",
    "print('order_products\\n', order_products.duplicated().sum())\n",
    "print()\n",
    "print('products\\n', products.duplicated().sum())\n",
    "\n"
   ]
  },
  {
   "cell_type": "markdown",
   "id": "PEkwUX_gvt5A",
   "metadata": {
    "id": "PEkwUX_gvt5A"
   },
   "source": [
    "¿Tienes líneas duplicadas? Si sí, ¿qué tienen en común?"
   ]
  },
  {
   "cell_type": "code",
   "execution_count": 8,
   "id": "0d44de5d",
   "metadata": {
    "colab": {
     "base_uri": "https://localhost:8080/"
    },
    "id": "0d44de5d",
    "outputId": "33fc72cf-e834-4b8b-e0d4-9545c0eb441e"
   },
   "outputs": [
    {
     "name": "stdout",
     "output_type": "stream",
     "text": [
      "Duplicados antes de procesar la base\n",
      " 15\n",
      "\n",
      "        order_id  user_id  order_number  order_dow  order_hour_of_day  \\\n",
      "145574    794638    50898            24          3                  2   \n",
      "223105   2160484   107525            16          3                  2   \n",
      "230807   1918001   188546            14          3                  2   \n",
      "266232   1782114   106752             1          3                  2   \n",
      "273805   1112182   202304            84          3                  2   \n",
      "284038   2845099    31189            11          3                  2   \n",
      "311713   1021560    53767             3          3                  2   \n",
      "321100    408114    68324             4          3                  2   \n",
      "323900   1919531   191501            32          3                  2   \n",
      "345917   2232988    82565             1          3                  2   \n",
      "371905    391768    57671            19          3                  2   \n",
      "394347    467134    63189            21          3                  2   \n",
      "411408   1286742   183220            48          3                  2   \n",
      "415163   2282673    86751            49          3                  2   \n",
      "441599   2125197    14050            48          3                  2   \n",
      "\n",
      "        days_since_prior_order  \n",
      "145574                     2.0  \n",
      "223105                    30.0  \n",
      "230807                    16.0  \n",
      "266232                     NaN  \n",
      "273805                     6.0  \n",
      "284038                     7.0  \n",
      "311713                     9.0  \n",
      "321100                    18.0  \n",
      "323900                     7.0  \n",
      "345917                     NaN  \n",
      "371905                    10.0  \n",
      "394347                     2.0  \n",
      "411408                     4.0  \n",
      "415163                     2.0  \n",
      "441599                     3.0  \n",
      "\n",
      "Duplicados despues de procesar la base\n",
      " 0\n",
      "\n"
     ]
    }
   ],
   "source": [
    "# Basándote en los hallazgos, instacart_orders tiene 15 duplicados explícitos. Los demas DataFrames no tiene duplicados explícitos\n",
    "#Se identifican los order_id que estan duplicados\n",
    "print('Duplicados antes de procesar la base\\n', instacart.duplicated().sum())\n",
    "print()\n",
    "print(instacart[instacart.duplicated()])\n",
    "print()\n",
    "#Eliminamos duplicados explícitos\n",
    "instacart = instacart.drop_duplicates().reset_index(drop=True)\n",
    "print('Duplicados despues de procesar la base\\n', instacart.duplicated().sum())\n",
    "print()\n"
   ]
  },
  {
   "cell_type": "code",
   "execution_count": 9,
   "id": "-GBrnqnP2M3N",
   "metadata": {
    "colab": {
     "base_uri": "https://localhost:8080/"
    },
    "id": "-GBrnqnP2M3N",
    "outputId": "bd9bec71-fd61-4e6b-8eea-69f806229495"
   },
   "outputs": [
    {
     "name": "stdout",
     "output_type": "stream",
     "text": [
      "        order_id  user_id  order_number  order_dow  order_hour_of_day  \\\n",
      "4838     2766110   162084            41          3                  2   \n",
      "5156     2190225   138285            18          3                  2   \n",
      "15506     553049    58599            13          3                  2   \n",
      "18420     382357   120200            19          3                  2   \n",
      "24691     690242    77357             2          3                  2   \n",
      "...          ...      ...           ...        ...                ...   \n",
      "456998   3384021    14881             6          3                  2   \n",
      "458801    910166   164782            18          3                  2   \n",
      "459620   1680532   106435             6          3                  2   \n",
      "468309    222962    54979            59          3                  2   \n",
      "477511   2592344    46860            38          3                  2   \n",
      "\n",
      "        days_since_prior_order  \n",
      "4838                      16.0  \n",
      "5156                      11.0  \n",
      "15506                      7.0  \n",
      "18420                     11.0  \n",
      "24691                      9.0  \n",
      "...                        ...  \n",
      "456998                    30.0  \n",
      "458801                     4.0  \n",
      "459620                    21.0  \n",
      "468309                     3.0  \n",
      "477511                     3.0  \n",
      "\n",
      "[106 rows x 6 columns]\n",
      "\n",
      "106\n",
      "\n",
      "user_id\n",
      "162084    1\n",
      "3510      1\n",
      "82565     1\n",
      "128530    1\n",
      "29103     1\n",
      "         ..\n",
      "59591     1\n",
      "31189     1\n",
      "120641    1\n",
      "131042    1\n",
      "46860     1\n",
      "Name: count, Length: 106, dtype: int64\n",
      "\n"
     ]
    }
   ],
   "source": [
    "# Verificamos todos los pedidos que se hicieron el miércoles a las 2:00 a.m.\n",
    "#Usando filtrado con operadores logicos verificamos las ordenes de los dias miercoles 2am\n",
    "instacart_wednesday_2am=(instacart[(instacart['order_dow'] == 3) & (instacart['order_hour_of_day'] == 2)])\n",
    "print(instacart_wednesday_2am)\n",
    "print()\n",
    "#Si cuento los valores de user_id, me dan 106 valores unicos.\n",
    "print(instacart_wednesday_2am['user_id'].nunique())\n",
    "print()\n",
    "#Creo la variable order_counts para contar las veces que se repite cada user_id. Evidenciamos que cada user_id solo se repite una vez. Son usuarios unicos\n",
    "order_counts = instacart_wednesday_2am['user_id'].value_counts()\n",
    "print(order_counts)\n",
    "print()\n"
   ]
  },
  {
   "cell_type": "markdown",
   "id": "vu2OWyoqwOx5",
   "metadata": {
    "id": "vu2OWyoqwOx5"
   },
   "source": [
    "###¿Qué sugiere este resultado?\n",
    "\n",
    "Al filtrar la base por miercoles 2 am no encontramos ninguna novedad con el DataFrame. Aparecen 106 usuarios unicos que han realizado compras en esa fraja de dia y tiempo y ningun usuario se repite en esa misma franja"
   ]
  },
  {
   "cell_type": "code",
   "execution_count": 10,
   "id": "0b2396a2",
   "metadata": {
    "colab": {
     "base_uri": "https://localhost:8080/"
    },
    "id": "0b2396a2",
    "outputId": "eb2c966d-48d9-4ee6-f5df-d768cd169dd0"
   },
   "outputs": [
    {
     "name": "stdout",
     "output_type": "stream",
     "text": [
      "Empty DataFrame\n",
      "Columns: [order_id, user_id, order_number, order_dow, order_hour_of_day, days_since_prior_order]\n",
      "Index: []\n"
     ]
    }
   ],
   "source": [
    "# Vuelve a verificar si hay filas duplicadas\n",
    "print(instacart[instacart.duplicated()])\n",
    "#No hay duplicados explícitos"
   ]
  },
  {
   "cell_type": "code",
   "execution_count": 11,
   "id": "f6113ef1",
   "metadata": {
    "colab": {
     "base_uri": "https://localhost:8080/"
    },
    "id": "f6113ef1",
    "outputId": "d09057e1-8f01-4d6c-cf37-e844679af060"
   },
   "outputs": [
    {
     "name": "stdout",
     "output_type": "stream",
     "text": [
      "478952\n",
      "<class 'pandas.core.series.Series'>\n",
      "RangeIndex: 478952 entries, 0 to 478951\n",
      "Series name: order_id\n",
      "Non-Null Count   Dtype\n",
      "--------------   -----\n",
      "478952 non-null  int64\n",
      "dtypes: int64(1)\n",
      "memory usage: 3.7 MB\n",
      "None\n",
      "\n"
     ]
    }
   ],
   "source": [
    "# Vuelve a verificar únicamente si hay IDs duplicados de pedidos\n",
    "print(instacart['order_id'].nunique())\n",
    "print(instacart['order_id'].info())\n",
    "print()\n",
    "#No hay order_id duplicados explícitos"
   ]
  },
  {
   "cell_type": "markdown",
   "id": "5e8905ae",
   "metadata": {
    "id": "5e8905ae"
   },
   "source": [
    "##Describe brevemente tus hallazgos y lo que hiciste con ellos\n",
    "\n",
    "1. Identificamos valores duplicados explícitos en instacart y los eliminamos.\n",
    "2. Buscamos valores duplicados implicitos por user_id tomando como base el dia miercoles a las 2 pm y no encontramos valores duplicados."
   ]
  },
  {
   "cell_type": "markdown",
   "id": "45e6bc46",
   "metadata": {
    "id": "45e6bc46"
   },
   "source": [
    "### `products` data frame"
   ]
  },
  {
   "cell_type": "code",
   "execution_count": 12,
   "id": "5f526b5b-8175-46fa-a0fd-441767d50e64",
   "metadata": {
    "colab": {
     "base_uri": "https://localhost:8080/"
    },
    "id": "5f526b5b-8175-46fa-a0fd-441767d50e64",
    "outputId": "09ad7eec-11d4-4b01-a951-490589075678"
   },
   "outputs": [
    {
     "name": "stdout",
     "output_type": "stream",
     "text": [
      "product_id       0\n",
      "product_name     0\n",
      "aisle_id         0\n",
      "department_id    0\n",
      "dtype: object\n"
     ]
    }
   ],
   "source": [
    "# Verifica si hay filas totalmente duplicadas\n",
    "print(products[products.duplicated()].sum())\n",
    "#No hay duplicados explícitos"
   ]
  },
  {
   "cell_type": "code",
   "execution_count": 13,
   "id": "88daa4f4",
   "metadata": {
    "colab": {
     "base_uri": "https://localhost:8080/"
    },
    "id": "88daa4f4",
    "outputId": "8383faed-df8f-4578-e031-15a9c54f1bfe"
   },
   "outputs": [
    {
     "name": "stdout",
     "output_type": "stream",
     "text": [
      "<class 'pandas.core.frame.DataFrame'>\n",
      "RangeIndex: 49694 entries, 0 to 49693\n",
      "Data columns (total 4 columns):\n",
      " #   Column         Non-Null Count  Dtype \n",
      "---  ------         --------------  ----- \n",
      " 0   product_id     49694 non-null  int64 \n",
      " 1   product_name   48436 non-null  object\n",
      " 2   aisle_id       49694 non-null  int64 \n",
      " 3   department_id  49694 non-null  int64 \n",
      "dtypes: int64(3), object(1)\n",
      "memory usage: 1.5+ MB\n",
      "products\n",
      " None\n",
      "\n",
      "21\n",
      "\n",
      "department_id\n",
      "11    6564\n",
      "19    6264\n",
      "13    5372\n",
      "7     4366\n",
      "1     4008\n",
      "16    3449\n",
      "17    3085\n",
      "15    2092\n",
      "9     1858\n",
      "4     1684\n",
      "3     1516\n",
      "20    1322\n",
      "21    1258\n",
      "6     1139\n",
      "14    1117\n",
      "18    1081\n",
      "5     1054\n",
      "8      972\n",
      "12     907\n",
      "2      548\n",
      "10      38\n",
      "Name: count, dtype: int64\n",
      "\n",
      "       product_id                                       product_name  \\\n",
      "5               6                                       Dry Nose Oil   \n",
      "12             13                                  Saline Nasal Mist   \n",
      "21             22                  Fresh Breath Oral Rinse Mild Mint   \n",
      "23             24  Tri-Vi-Sol® Vitamins A-C-and D Supplement Drop...   \n",
      "26             27  Complete Spring Water Foaming Antibacterial Ha...   \n",
      "...           ...                                                ...   \n",
      "49648       49649            Refreshing Remover Cleansing Towelettes   \n",
      "49652       49653    Organic Aromatherapeutic Moroccan Argan Oil Set   \n",
      "49659       49660                        Professionals Sleek Shampoo   \n",
      "49687       49688                             Fresh Foaming Cleanser   \n",
      "49692       49693                             SPRING WATER BODY WASH   \n",
      "\n",
      "       aisle_id  department_id  \n",
      "5            11             11  \n",
      "12           11             11  \n",
      "21           20             11  \n",
      "23           47             11  \n",
      "26          127             11  \n",
      "...         ...            ...  \n",
      "49648        73             11  \n",
      "49652        25             11  \n",
      "49659        22             11  \n",
      "49687        73             11  \n",
      "49692       127             11  \n",
      "\n",
      "[6564 rows x 4 columns]\n",
      "\n"
     ]
    }
   ],
   "source": [
    "# Revisa únicamente si hay ID de departamentos duplicados\n",
    "#Al usar .info(), evidenciamos que la base tiene 4774 filas\n",
    "print('products\\n', products.info())\n",
    "print()\n",
    "#Pero si cuento los valores de user_id, me dan 20 valores unicos. Es decir, hay departamentos que se repiten\n",
    "print(products['department_id'].nunique())\n",
    "print()\n",
    "#Creo la variable department_counts para contar las veces que se repite cada user_id\n",
    "department_counts = products['department_id'].value_counts()\n",
    "print(department_counts)\n",
    "print()\n",
    "#Filtro el department_id mas repetido para observar las variables y sacar conclusiones\n",
    "print(products[(products['department_id'] == 11) ])\n",
    "print()\n",
    "#Se evidencia que product_name hacer referencia a productos del cuidado personal y salud; es decir, que el departamento 11 se refiere a ese tipo de productos\n",
    "#Viendo lo anterior, es normal asumir que los valores de department_id se repiten, puesto que es una categorización de los productos organizados en un espacio para este caso"
   ]
  },
  {
   "cell_type": "code",
   "execution_count": 14,
   "id": "c773f0bf",
   "metadata": {
    "colab": {
     "base_uri": "https://localhost:8080/"
    },
    "id": "c773f0bf",
    "outputId": "6031b0bd-a5ac-49b2-bba6-c4b2aba71f3a"
   },
   "outputs": [
    {
     "name": "stdout",
     "output_type": "stream",
     "text": [
      "0                               chocolate sandwich cookies\n",
      "1                                         all-seasons salt\n",
      "2                     robust golden unsweetened oolong tea\n",
      "3        smart ones classic favorites mini rigatoni wit...\n",
      "4                                green chile anytime sauce\n",
      "                               ...                        \n",
      "49689                        high performance energy drink\n",
      "49690                        original pancake & waffle mix\n",
      "49691      organic instant oatmeal light maple brown sugar\n",
      "49692                               spring water body wash\n",
      "49693                              burrito- steak & cheese\n",
      "Name: product_name, Length: 49694, dtype: object\n",
      "\n"
     ]
    }
   ],
   "source": [
    "# Revisa únicamente si hay nombres duplicados de productos (convierte los nombres a letras minusculas para compararlos mejor)\n",
    "#Primero se pasa la columna product_name a minuscula\n",
    "products['product_name'] = products['product_name'].str.lower()\n",
    "print(products['product_name'])\n",
    "print()"
   ]
  },
  {
   "cell_type": "code",
   "execution_count": 15,
   "id": "01efd02e",
   "metadata": {
    "colab": {
     "base_uri": "https://localhost:8080/"
    },
    "id": "01efd02e",
    "outputId": "60d2f4cf-8781-45e2-e647-f1beab346c7d"
   },
   "outputs": [
    {
     "name": "stdout",
     "output_type": "stream",
     "text": [
      "product_name\n",
      "green tea with ginseng and honey                                        3\n",
      "carrot and celery sticks                                                2\n",
      "apricot energy bar                                                      2\n",
      "top the tater chive & onion sour cream                                  2\n",
      "proactive health indoor weight & hairball care with chicken cat food    2\n",
      "                                                                       ..\n",
      "cauliflower head                                                        2\n",
      "half and half                                                           2\n",
      "original bbq sauce                                                      2\n",
      "spreadable butter with canola oil                                       2\n",
      "mandarin oranges in light syrup                                         2\n",
      "Name: count, Length: 103, dtype: int64\n",
      "\n",
      "       product_id                      product_name  aisle_id  department_id\n",
      "2037         2038  green tea with ginseng and honey        94              7\n",
      "5455         5456  green tea with ginseng and honey        96             20\n",
      "19813       19814  green tea with ginseng and honey        94              7\n",
      "\n",
      "48332\n",
      "\n",
      "<class 'pandas.core.frame.DataFrame'>\n",
      "RangeIndex: 49694 entries, 0 to 49693\n",
      "Data columns (total 4 columns):\n",
      " #   Column         Non-Null Count  Dtype \n",
      "---  ------         --------------  ----- \n",
      " 0   product_id     49694 non-null  int64 \n",
      " 1   product_name   48436 non-null  object\n",
      " 2   aisle_id       49694 non-null  int64 \n",
      " 3   department_id  49694 non-null  int64 \n",
      "dtypes: int64(3), object(1)\n",
      "memory usage: 1.5+ MB\n",
      "None\n",
      "\n",
      "\n",
      "product_name\n",
      "chocolate sandwich cookies                                 1\n",
      "caramel apple spice slim life tea                          1\n",
      "classic broth with wild salmon                             1\n",
      "cafe steamers honey balsamic chicken grilled white meat    1\n",
      "fiber d'lish blueberry cobbler bar                         1\n",
      "                                                          ..\n",
      "complete lice elimination kit                              1\n",
      "cappuccino gelato                                          1\n",
      "maple pecan ice cream                                      1\n",
      "energy coffee beverage vanilla                             1\n",
      "fresh foaming cleanser                                     1\n",
      "Name: count, Length: 48332, dtype: int64\n"
     ]
    }
   ],
   "source": [
    "# Revisa si hay nombres duplicados de productos no faltantes\n",
    "#Verificamos si hay duplicados en products_name y filtramos lo que tienen frecuencia mayor a 1\n",
    "product_name_count = products['product_name'].value_counts()\n",
    "product_repetidos = product_name_count[product_name_count > 1]\n",
    "print(product_repetidos)\n",
    "print()\n",
    "#Filtramos por el producto de mayor frecuencia (green tea with ginseng and honey)\n",
    "print(products[(products['product_name'] == 'green tea with ginseng and honey')])\n",
    "print()\n",
    "#Al filtrar green tea with ginseng and honey se evidencia que efecticvamente está repetido, mismo producto con 3 product_id, con diferentes aisle_id y department_id\n",
    "#Verificamos cuantos valores unicos de product_name hay. Para este caso son 48332 valores unicos, pero la base en total tiene 48436 filas.\n",
    "print(products['product_name'].nunique())\n",
    "print()\n",
    "print(products.info())\n",
    "print()\n",
    "#Pasamos a eliminar los product_name duplicados con drop.duplicates()\n",
    "products_limpio = products.drop_duplicates(subset=['product_name'])\n",
    "print()\n",
    "products = products_limpio\n",
    "# Verificamos los resultados\n",
    "print(products['product_name'].value_counts())\n"
   ]
  },
  {
   "cell_type": "markdown",
   "id": "9da8d293",
   "metadata": {
    "id": "9da8d293"
   },
   "source": [
    "##Describe brevemente tus hallazgos y lo que hiciste con ellos.\n",
    "\n",
    "Al organizar product_name en minuscula y contar frecuencias, nos damos cuenta que hay productos repetidos con diferentes product_id, aisle_id y/o department_id\n",
    "Al identificarlos, los eliminamos con drop.duplicate() para limpiar la base"
   ]
  },
  {
   "cell_type": "markdown",
   "id": "60f30db1",
   "metadata": {
    "id": "60f30db1"
   },
   "source": [
    "### `departments` data frame"
   ]
  },
  {
   "cell_type": "code",
   "execution_count": 16,
   "id": "fb410ad4-0fbf-4b80-bb09-23fdea79afe3",
   "metadata": {
    "colab": {
     "base_uri": "https://localhost:8080/"
    },
    "id": "fb410ad4-0fbf-4b80-bb09-23fdea79afe3",
    "outputId": "214b272b-15bb-492a-f5ba-d26fc4ddb247"
   },
   "outputs": [
    {
     "name": "stdout",
     "output_type": "stream",
     "text": [
      "department_id    0\n",
      "department       0\n",
      "dtype: object\n"
     ]
    }
   ],
   "source": [
    "# Revisa si hay filas totalmente duplicadas\n",
    "print(depart[depart.duplicated()].sum())\n",
    "#No hay duplicados explícitos"
   ]
  },
  {
   "cell_type": "code",
   "execution_count": 17,
   "id": "332b12bb",
   "metadata": {
    "colab": {
     "base_uri": "https://localhost:8080/"
    },
    "id": "332b12bb",
    "outputId": "50dab287-00c2-4aa3-aebd-585f51fb4e23"
   },
   "outputs": [
    {
     "name": "stdout",
     "output_type": "stream",
     "text": [
      "<class 'pandas.core.frame.DataFrame'>\n",
      "RangeIndex: 21 entries, 0 to 20\n",
      "Data columns (total 2 columns):\n",
      " #   Column         Non-Null Count  Dtype \n",
      "---  ------         --------------  ----- \n",
      " 0   department_id  21 non-null     int64 \n",
      " 1   department     21 non-null     object\n",
      "dtypes: int64(1), object(1)\n",
      "memory usage: 468.0+ bytes\n",
      "departments\n",
      " None\n",
      "\n",
      "21\n",
      "\n",
      "    department_id       department\n",
      "0               1           frozen\n",
      "1               2            other\n",
      "2               3           bakery\n",
      "3               4          produce\n",
      "4               5          alcohol\n",
      "5               6    international\n",
      "6               7        beverages\n",
      "7               8             pets\n",
      "8               9  dry goods pasta\n",
      "9              10             bulk\n",
      "10             11    personal care\n",
      "11             12     meat seafood\n",
      "12             13           pantry\n",
      "13             14        breakfast\n",
      "14             15     canned goods\n",
      "15             16       dairy eggs\n",
      "16             17        household\n",
      "17             18           babies\n",
      "18             19           snacks\n",
      "19             20             deli\n",
      "20             21          missing\n"
     ]
    }
   ],
   "source": [
    "# Revisa únicamente si hay IDs duplicadas de productos\n",
    "#Al usar .info(), evidenciamos que la base tiene 21 filas\n",
    "print('departments\\n', depart.info())\n",
    "print()\n",
    "#Y si cuento los valores de deparment_id, me dan 21 valores unicos. Es decir, no hay departamentos que se repiten\n",
    "print(depart['department_id'].nunique())\n",
    "print()\n",
    "#Al ser un DataFrame solo de 21 filas, puedo verlo todo\n",
    "print(depart)\n",
    "# Se evidencia que no hay nada malo con el DataFrame"
   ]
  },
  {
   "cell_type": "markdown",
   "id": "bd30d78e",
   "metadata": {
    "id": "bd30d78e"
   },
   "source": [
    "###Describe brevemente tus hallazgos y lo que hiciste con ellos.\n",
    "\n",
    "El DataFrame está bien, sin valores duplicados\n"
   ]
  },
  {
   "cell_type": "markdown",
   "id": "889349c1",
   "metadata": {
    "id": "889349c1"
   },
   "source": [
    "### `aisles` data frame"
   ]
  },
  {
   "cell_type": "code",
   "execution_count": 18,
   "id": "9da89fb9-4679-40f5-ad0d-c34df753a3f8",
   "metadata": {
    "colab": {
     "base_uri": "https://localhost:8080/"
    },
    "id": "9da89fb9-4679-40f5-ad0d-c34df753a3f8",
    "outputId": "bcfaee5f-c687-498e-eb3f-0e6deac2af50"
   },
   "outputs": [
    {
     "name": "stdout",
     "output_type": "stream",
     "text": [
      "aisle_id    0\n",
      "aisle       0\n",
      "dtype: object\n"
     ]
    }
   ],
   "source": [
    "# Revisa si hay filas totalmente duplicadas\n",
    "print(aisles[aisles.duplicated()].sum())\n",
    "#No hay duplicados explícitos"
   ]
  },
  {
   "cell_type": "code",
   "execution_count": 19,
   "id": "da7c2822",
   "metadata": {
    "colab": {
     "base_uri": "https://localhost:8080/"
    },
    "id": "da7c2822",
    "outputId": "97652062-4c26-4703-9c3c-0cef363e261e"
   },
   "outputs": [
    {
     "name": "stdout",
     "output_type": "stream",
     "text": [
      "<class 'pandas.core.frame.DataFrame'>\n",
      "RangeIndex: 134 entries, 0 to 133\n",
      "Data columns (total 2 columns):\n",
      " #   Column    Non-Null Count  Dtype \n",
      "---  ------    --------------  ----- \n",
      " 0   aisle_id  134 non-null    int64 \n",
      " 1   aisle     134 non-null    object\n",
      "dtypes: int64(1), object(1)\n",
      "memory usage: 2.2+ KB\n",
      "None\n",
      "\n",
      "134\n",
      "\n"
     ]
    }
   ],
   "source": [
    "# Revisa únicamente si hay IDs duplicadas de pasillos\n",
    "#Al usar .info(), evidenciamos que la base tiene 134 filas\n",
    "print(aisles.info())\n",
    "print()\n",
    "#Y si cuento los valores de aisle_id, me dan 134 valores unicos. Es decir, no hay id que se repiten\n",
    "print(aisles['aisle_id'].nunique())\n",
    "print()"
   ]
  },
  {
   "cell_type": "markdown",
   "id": "ac63826f",
   "metadata": {
    "id": "ac63826f"
   },
   "source": [
    "###Describe brevemente tus hallazgos y lo que hiciste con ellos.\n",
    "\n",
    "El DataFrame está bien, sin valores duplicados\n"
   ]
  },
  {
   "cell_type": "markdown",
   "id": "274cd06a",
   "metadata": {
    "id": "274cd06a"
   },
   "source": [
    "### `order_products` data frame"
   ]
  },
  {
   "cell_type": "code",
   "execution_count": 20,
   "id": "52326689-84a8-4b8f-a881-7c68780f62c9",
   "metadata": {
    "colab": {
     "base_uri": "https://localhost:8080/"
    },
    "id": "52326689-84a8-4b8f-a881-7c68780f62c9",
    "outputId": "61f3bfc2-d608-4876-ed65-ba26ede6abf2"
   },
   "outputs": [
    {
     "name": "stdout",
     "output_type": "stream",
     "text": [
      "order_id             0.0\n",
      "product_id           0.0\n",
      "add_to_cart_order    0.0\n",
      "reordered            0.0\n",
      "dtype: float64\n"
     ]
    }
   ],
   "source": [
    "# Revisa si hay filas totalmente duplicadas\n",
    "print(order_products[order_products.duplicated()].sum())\n",
    "#No hay duplicados explícitos\n"
   ]
  },
  {
   "cell_type": "code",
   "execution_count": 21,
   "id": "7b861391",
   "metadata": {
    "colab": {
     "base_uri": "https://localhost:8080/"
    },
    "id": "7b861391",
    "outputId": "7c86ef4f-0ee6-4495-ce51-43f150c20698"
   },
   "outputs": [
    {
     "name": "stdout",
     "output_type": "stream",
     "text": [
      "         order_id  product_id  add_to_cart_order  reordered\n",
      "0         2141543       11440               17.0          0\n",
      "1          567889        1560                1.0          1\n",
      "2         2261212       26683                1.0          1\n",
      "3          491251        8670               35.0          1\n",
      "4         2571142        1940                5.0          1\n",
      "...           ...         ...                ...        ...\n",
      "4545002    577211       15290               12.0          1\n",
      "4545003   1219554       21914                9.0          0\n",
      "4545004    692640       47766                4.0          1\n",
      "4545005    319435         691                8.0          1\n",
      "4545006   1398151       28733                9.0          0\n",
      "\n",
      "[4545007 rows x 4 columns]\n",
      "\n",
      "order_id\n",
      "61355      127\n",
      "3308010    115\n",
      "2136777    108\n",
      "171934     104\n",
      "1959075     98\n",
      "          ... \n",
      "3076918      1\n",
      "2499566      1\n",
      "556604       1\n",
      "171279       1\n",
      "1461911      1\n",
      "Name: count, Length: 450046, dtype: int64\n",
      "order_id\n",
      "2977524    2\n",
      "731752     2\n",
      "785622     2\n",
      "2200262    2\n",
      "2387481    2\n",
      "          ..\n",
      "2384099    2\n",
      "2747680    2\n",
      "2604344    2\n",
      "2728388    2\n",
      "492137     2\n",
      "Name: count, Length: 26292, dtype: int64\n",
      "         order_id  product_id  add_to_cart_order  reordered\n",
      "877293    2643010        8021                2.0          0\n",
      "3607819   2643010       20379                1.0          0\n",
      "         order_id  product_id  add_to_cart_order  reordered\n",
      "423188    2624419       41006                1.0          0\n",
      "630901    2624419        5077                3.0          1\n",
      "3569681   2624419       23265                2.0          0\n",
      "3688634   2624419       32096                4.0          1\n"
     ]
    }
   ],
   "source": [
    "# Vuelve a verificar si hay cualquier otro duplicado engañoso\n",
    "#1ro imprimo la tabla para entenderla bien\n",
    "print(order_products)\n",
    "print()\n",
    "#2do cuento frecuencias en la variable order_id\n",
    "print (order_products['order_id'].value_counts())\n",
    "#Por fines practicos, creo la variable order_id_count que cuenta las frencuencas de order_id\n",
    "order_id_count = order_products['order_id'].value_counts()\n",
    "#Imprimo frecuencias iguales a 2 para que visualmente sea mas facil de entender\n",
    "print(order_id_count[(order_id_count == 2) ])\n",
    "#Filtro el order_id = 2643010\n",
    "print(order_products[order_products['order_id']==2643010])\n",
    "#Filtro el order_id = 2624419 que se repite 4 veces\n",
    "print(order_products[order_products['order_id']==2624419])\n",
    "#No hay novedad con la base. El order_id se repite porque cada orden puede tener mas de 1 producto. Lo podemos evidenciar con add_to_cart_order"
   ]
  },
  {
   "cell_type": "markdown",
   "id": "0b890492",
   "metadata": {
    "id": "0b890492"
   },
   "source": [
    "###Describe brevemente tus hallazgos y lo que hiciste con ellos.\n",
    "\n",
    "Al hacer varias interacciones con la base, no encuentro valores duplicados\n"
   ]
  },
  {
   "cell_type": "markdown",
   "id": "1e46de76",
   "metadata": {
    "id": "1e46de76"
   },
   "source": [
    "## Encuentra y elimina los valores ausentes\n",
    "\n",
    "Al trabajar con valores duplicados, pudimos observar que también nos falta investigar valores ausentes:\n",
    "\n",
    "* La columna `'product_name'` de la tabla products.\n",
    "* La columna `'days_since_prior_order'` de la tabla orders.\n",
    "* La columna `'add_to_cart_order'` de la tabla order_productos."
   ]
  },
  {
   "cell_type": "markdown",
   "id": "c0aebd78",
   "metadata": {
    "id": "c0aebd78"
   },
   "source": [
    "### `products` data frame"
   ]
  },
  {
   "cell_type": "code",
   "execution_count": 22,
   "id": "fe4a8b0f",
   "metadata": {
    "colab": {
     "base_uri": "https://localhost:8080/"
    },
    "id": "fe4a8b0f",
    "outputId": "29dd45f2-eb11-483c-8d30-20c1b7f1a32a"
   },
   "outputs": [
    {
     "name": "stdout",
     "output_type": "stream",
     "text": [
      "Valores ausentes product_name antes  de reemplazarlos \n",
      " 1\n",
      "    product_id product_name  aisle_id  department_id\n",
      "37          38          NaN       100             21\n",
      "\n",
      "\n",
      "Valores ausentes product_name despues  de reemplazarlos \n",
      " 0\n",
      "\n"
     ]
    }
   ],
   "source": [
    "# Encuentra los valores ausentes en la columna 'product_name'\n",
    "#Se verifican valores ausentes. Para este caso solo queda uno\n",
    "print('Valores ausentes product_name antes  de reemplazarlos \\n',products['product_name'].isna().sum())\n",
    "print(products[products['product_name'].isna()])\n",
    "print()\n",
    "#Eliminamos el valor ausente con dropna\n",
    "products = products.dropna(subset=['product_name'])\n",
    "print()\n",
    "print('Valores ausentes product_name despues  de reemplazarlos \\n',products['product_name'].isna().sum())\n",
    "print()\n"
   ]
  },
  {
   "cell_type": "markdown",
   "id": "-A6x1AbJhjkp",
   "metadata": {
    "id": "-A6x1AbJhjkp"
   },
   "source": [
    "##Describe brevemente cuáles son tus hallazgos.\n",
    "Se verifica que los valores ausentes en product_name tuvieran un unico product_id. Se usan 4 valores prueba (38, 72, 49553, 49575).\n",
    "Se identifica que cada NaN tiene asignado un unico product_id y este no se repite.\n",
    "Esta validación se hizo para tratar de encontrar el product_name ausente a través del product_id"
   ]
  },
  {
   "cell_type": "code",
   "execution_count": 23,
   "id": "e96167bc",
   "metadata": {
    "colab": {
     "base_uri": "https://localhost:8080/"
    },
    "id": "e96167bc",
    "outputId": "4a37306a-7aef-421c-b79b-fd1cad3d55f3"
   },
   "outputs": [
    {
     "name": "stdout",
     "output_type": "stream",
     "text": [
      "    aisle_id    aisle\n",
      "99       100  missing\n",
      "\n",
      "    department_id department\n",
      "20             21    missing\n"
     ]
    }
   ],
   "source": [
    "#  ¿Todos los nombres de productos ausentes están relacionados con el pasillo con ID 100?\n",
    "#¿Todos los nombres de productos ausentes están relacionados con el departamento con ID 21?\n",
    "# Usa las tablas department y aisle para revisar los datos del pasillo con ID 100 y el departamento con ID 21.\n",
    "\n",
    "#Si, estaban relacionados a aisle_id=100 y a department_id=21\n",
    "print(aisles[aisles['aisle_id']==100])\n",
    "print()\n",
    "print(depart[depart['department_id']==21])"
   ]
  },
  {
   "cell_type": "markdown",
   "id": "WRpIfXRphpSL",
   "metadata": {
    "id": "WRpIfXRphpSL"
   },
   "source": [
    "##Describe brevemente cuáles son tus hallazgos.\n",
    "Al revisar bien los ausentes en la base product notamos que estaban asignados al aisle_id 100 y al department_id 21. Ambos estan categorizados como missing."
   ]
  },
  {
   "cell_type": "code",
   "execution_count": 24,
   "id": "6b295120",
   "metadata": {
    "colab": {
     "base_uri": "https://localhost:8080/"
    },
    "id": "6b295120",
    "outputId": "c354afba-c923-40f1-825b-0193fd4a5005"
   },
   "outputs": [
    {
     "name": "stdout",
     "output_type": "stream",
     "text": [
      "Valores ausentes product_name antes de reemplazarlos \n",
      " 0\n",
      "\n",
      "Valores ausentes product_name despues  de reemplazarlos \n",
      " 0\n",
      "\n",
      "Empty DataFrame\n",
      "Columns: [product_id, product_name, aisle_id, department_id]\n",
      "Index: []\n"
     ]
    },
    {
     "name": "stderr",
     "output_type": "stream",
     "text": [
      "<ipython-input-24-e2729f2a0795>:4: SettingWithCopyWarning: \n",
      "A value is trying to be set on a copy of a slice from a DataFrame.\n",
      "Try using .loc[row_indexer,col_indexer] = value instead\n",
      "\n",
      "See the caveats in the documentation: https://pandas.pydata.org/pandas-docs/stable/user_guide/indexing.html#returning-a-view-versus-a-copy\n",
      "  products['product_name'] = products['product_name'].fillna('Unknown')\n"
     ]
    }
   ],
   "source": [
    "# Completa los nombres de productos ausentes con 'Unknown'\n",
    "print('Valores ausentes product_name antes de reemplazarlos \\n',products['product_name'].isna().sum())\n",
    "print()\n",
    "products['product_name'] = products['product_name'].fillna('Unknown')\n",
    "print('Valores ausentes product_name despues  de reemplazarlos \\n',products['product_name'].isna().sum())\n",
    "print()\n",
    "print(products[products['product_name']=='Unknown'])"
   ]
  },
  {
   "cell_type": "markdown",
   "id": "7eb45c86",
   "metadata": {
    "id": "7eb45c86"
   },
   "source": [
    "### `instacart_orders` data frame"
   ]
  },
  {
   "cell_type": "code",
   "execution_count": 25,
   "id": "93e41d96",
   "metadata": {
    "colab": {
     "base_uri": "https://localhost:8080/"
    },
    "id": "93e41d96",
    "outputId": "b5b58075-5afb-4d59-fcaa-852d03395dce"
   },
   "outputs": [
    {
     "name": "stdout",
     "output_type": "stream",
     "text": [
      "Valores ausentes days_since_prior_order antes  de reemplazarlos \n",
      " 28817\n",
      "\n",
      "        order_id  user_id  order_number  order_dow  order_hour_of_day  \\\n",
      "28        133707   182261             1          3                 10   \n",
      "96        787445    25685             1          6                 18   \n",
      "100       294410   111449             1          0                 19   \n",
      "103      2869915   123958             1          4                 16   \n",
      "104      2521921    42286             1          3                 18   \n",
      "...          ...      ...           ...        ...                ...   \n",
      "478880   2589657   205028             1          0                 16   \n",
      "478881   2222353   141211             1          2                 13   \n",
      "478907   2272807   204154             1          1                 15   \n",
      "478911   2499542    68810             1          4                 19   \n",
      "478930   1387033    22496             1          5                 14   \n",
      "\n",
      "        days_since_prior_order  \n",
      "28                         NaN  \n",
      "96                         NaN  \n",
      "100                        NaN  \n",
      "103                        NaN  \n",
      "104                        NaN  \n",
      "...                        ...  \n",
      "478880                     NaN  \n",
      "478881                     NaN  \n",
      "478907                     NaN  \n",
      "478911                     NaN  \n",
      "478930                     NaN  \n",
      "\n",
      "[28817 rows x 6 columns]\n",
      "\n",
      "        order_id  user_id  order_number  order_dow  order_hour_of_day  \\\n",
      "28        133707   182261             1          3                 10   \n",
      "96        787445    25685             1          6                 18   \n",
      "100       294410   111449             1          0                 19   \n",
      "103      2869915   123958             1          4                 16   \n",
      "104      2521921    42286             1          3                 18   \n",
      "...          ...      ...           ...        ...                ...   \n",
      "478880   2589657   205028             1          0                 16   \n",
      "478881   2222353   141211             1          2                 13   \n",
      "478907   2272807   204154             1          1                 15   \n",
      "478911   2499542    68810             1          4                 19   \n",
      "478930   1387033    22496             1          5                 14   \n",
      "\n",
      "        days_since_prior_order  \n",
      "28                         NaN  \n",
      "96                         NaN  \n",
      "100                        NaN  \n",
      "103                        NaN  \n",
      "104                        NaN  \n",
      "...                        ...  \n",
      "478880                     NaN  \n",
      "478881                     NaN  \n",
      "478907                     NaN  \n",
      "478911                     NaN  \n",
      "478930                     NaN  \n",
      "\n",
      "[28817 rows x 6 columns]\n"
     ]
    }
   ],
   "source": [
    "#Hay que identificar y corregir los valores ausentes. Estos ya los identificamos en el Paso 1\n",
    "\n",
    "#Para el caso de instacart['days_since_prior_order'], para  los NaN se evidencia que la variable order_number es 1; es decir, es el primer pedido del cliente\n",
    "print('Valores ausentes days_since_prior_order antes  de reemplazarlos \\n',instacart['days_since_prior_order'].isna().sum())\n",
    "print()\n",
    "print(instacart[instacart['days_since_prior_order'].isna()])\n",
    "print()\n",
    "print(instacart[instacart['order_number']==1])\n"
   ]
  },
  {
   "cell_type": "code",
   "execution_count": 26,
   "id": "166e5a86",
   "metadata": {
    "colab": {
     "base_uri": "https://localhost:8080/"
    },
    "id": "166e5a86",
    "outputId": "9679d7a5-c58d-4828-df04-aa42d8eab66b"
   },
   "outputs": [
    {
     "name": "stdout",
     "output_type": "stream",
     "text": [
      "Empty DataFrame\n",
      "Columns: [order_id, user_id, order_number, order_dow, order_hour_of_day, days_since_prior_order]\n",
      "Index: []\n",
      "\n"
     ]
    }
   ],
   "source": [
    "# ¿Hay algún valor ausente que no sea el primer pedido del cliente?\n",
    "\n",
    "#No lo hay\n",
    "\n",
    "print(instacart[(instacart['days_since_prior_order'] == 'NaN') & (instacart['order_number'] != 1)]) #Filtramos valores ausentes en la columna days_since_prior_order y valores diferenres a 1 en order_number para saber si hay ausentes diferentes al primer pedido\n",
    "print()\n",
    "\n",
    "#Ahora reemplazamos los valores ausentes por 0\n",
    "#instacart['days_since_prior_order']=instacart['days_since_prior_order'].fillna(0)\n",
    "#print('Valores ausentes days_since_prior_order despues de reemplazarlos \\n',instacart['days_since_prior_order'].isna().sum())\n",
    "\n"
   ]
  },
  {
   "cell_type": "markdown",
   "id": "4e23d089",
   "metadata": {
    "id": "4e23d089"
   },
   "source": [
    "###Describe brevemente tus hallazgos y lo que hiciste con ellos.\n",
    "\n",
    "Para el caso de instacart['days_since_prior_order'], para  los NaN se evidencia que la variable order_number es 1; es decir, es el primer pedido del cliente.\n",
    "Hicimos el ejercicio de filtrar si hay NaN que no fueran el primer pedido y no se encontraron valores.\n"
   ]
  },
  {
   "cell_type": "markdown",
   "id": "69dc9ca4",
   "metadata": {
    "id": "69dc9ca4"
   },
   "source": [
    "### `order_products` data frame"
   ]
  },
  {
   "cell_type": "code",
   "execution_count": 27,
   "id": "b8240253",
   "metadata": {
    "colab": {
     "base_uri": "https://localhost:8080/"
    },
    "id": "b8240253",
    "outputId": "00ec9900-37c2-4ab8-aa3f-610caeb202e4"
   },
   "outputs": [
    {
     "name": "stdout",
     "output_type": "stream",
     "text": [
      "Valores ausentes add_to_cart_order antes  de reemlazarlos \n",
      " 836\n",
      "Empty DataFrame\n",
      "Columns: [order_id, product_id, add_to_cart_order, reordered]\n",
      "Index: []\n",
      "\n",
      "         order_id  product_id  add_to_cart_order  reordered\n",
      "737       2449164        5068                NaN          0\n",
      "9926      1968313       43867                NaN          0\n",
      "14394     2926893       11688                NaN          0\n",
      "16418     1717990        4142                NaN          0\n",
      "30114     1959075       42828                NaN          1\n",
      "...           ...         ...                ...        ...\n",
      "4505662   1800005        7411                NaN          0\n",
      "4511400   1633337         260                NaN          0\n",
      "4517562    404157        9517                NaN          0\n",
      "4534112   1673227       17835                NaN          0\n",
      "4535739   1832957       17949                NaN          1\n",
      "\n",
      "[836 rows x 4 columns]\n",
      "\n"
     ]
    }
   ],
   "source": [
    "# Encuentra los valores ausentes\n",
    "\n",
    "#La variable add_to_cart_order de la base order_products tiene 836 valores ausentes\n",
    "print('Valores ausentes add_to_cart_order antes  de reemlazarlos \\n',order_products['add_to_cart_order'].isna().sum())\n",
    "print(order_products[order_products['add_to_cart_order']==0])\n",
    "print()\n",
    "print(order_products[order_products['add_to_cart_order'].isna()])\n",
    "print()\n"
   ]
  },
  {
   "cell_type": "code",
   "execution_count": 28,
   "id": "9a78e5ee",
   "metadata": {
    "colab": {
     "base_uri": "https://localhost:8080/"
    },
    "id": "9a78e5ee",
    "outputId": "df767f7c-9c24-40f5-c095-8ab0a60c4c46"
   },
   "outputs": [
    {
     "name": "stdout",
     "output_type": "stream",
     "text": [
      "           order_id    product_id  add_to_cart_order     reordered\n",
      "count  4.545007e+06  4.545007e+06       4.544171e+06  4.545007e+06\n",
      "mean   1.711166e+06  2.558084e+04       8.351669e+00  5.905025e-01\n",
      "std    9.850955e+05  1.409552e+04       7.080368e+00  4.917411e-01\n",
      "min    4.000000e+00  1.000000e+00       1.000000e+00  0.000000e+00\n",
      "25%    8.608170e+05  1.353500e+04       3.000000e+00  0.000000e+00\n",
      "50%    1.711530e+06  2.527200e+04       6.000000e+00  1.000000e+00\n",
      "75%    2.561311e+06  3.793500e+04       1.100000e+01  1.000000e+00\n",
      "max    3.421079e+06  4.969400e+04       6.400000e+01  1.000000e+00\n"
     ]
    }
   ],
   "source": [
    "# ¿Cuáles son los valores mínimos y máximos en esta columna?\n",
    "\n",
    "#Despues de eliminar los valores ausentes, podemos observar que el valor minimo de add_to_cart_order es 1 y el valor maximo es 64\n",
    "\n",
    "print(order_products.describe())"
   ]
  },
  {
   "cell_type": "code",
   "execution_count": 29,
   "id": "ab9d0c2b",
   "metadata": {
    "colab": {
     "base_uri": "https://localhost:8080/"
    },
    "id": "ab9d0c2b",
    "outputId": "ad6c8d7c-5433-46b4-85b7-61a4147cc8b9"
   },
   "outputs": [
    {
     "name": "stdout",
     "output_type": "stream",
     "text": [
      "\n",
      "         order_id  product_id  add_to_cart_order  reordered\n",
      "737       2449164        5068                NaN          0\n",
      "9926      1968313       43867                NaN          0\n",
      "14394     2926893       11688                NaN          0\n",
      "16418     1717990        4142                NaN          0\n",
      "30114     1959075       42828                NaN          1\n",
      "...           ...         ...                ...        ...\n",
      "4505662   1800005        7411                NaN          0\n",
      "4511400   1633337         260                NaN          0\n",
      "4517562    404157        9517                NaN          0\n",
      "4534112   1673227       17835                NaN          0\n",
      "4535739   1832957       17949                NaN          1\n",
      "\n",
      "[836 rows x 4 columns]\n",
      "\n",
      "[2449164, 1968313, 2926893, 1717990, 1959075, 844733, 61355, 936852, 264710, 1717990, 1564093, 129627, 264710, 293169, 2849370, 1386261, 3308010, 903110, 2136777, 3347453, 1888628, 165801, 2449164, 2094761, 3347453, 1038146, 2136777, 2997021, 844733, 844733, 2136777, 813364, 165801, 2256933, 171934, 264710, 2449164, 2409109, 3347453, 813364, 2926893, 936852, 1730767, 1169835, 733526, 844733, 293169, 61355, 903110, 1968313, 733526, 2136777, 2926893, 404157, 1386261, 171934, 3125735, 747668, 3308010, 1169835, 1800005, 1961723, 936852, 2849370, 3308010, 61355, 871281, 1717990, 813364, 388234, 61355, 3125735, 1959075, 61355, 3125735, 1648217, 171934, 3125735, 61355, 1477139, 1959075, 1717990, 1717990, 61355, 1717990, 171934, 1038146, 3308010, 3347453, 102236, 936852, 171934, 1730767, 2926893, 1021563, 1832957, 1959075, 2256933, 1968313, 2721963, 293169, 102236, 3125735, 1959075, 264710, 678116, 1220886, 1386261, 171934, 1959075, 61355, 3308010, 61355, 102236, 388234, 171934, 3308010, 1961723, 2721963, 3308010, 1564093, 264710, 404157, 1673227, 813364, 2094761, 844733, 1386261, 1959075, 3125735, 61355, 102236, 3308010, 1386261, 936852, 2999801, 1038146, 1888628, 813364, 1800005, 1968313, 3308010, 2449164, 388234, 3125735, 102236, 903110, 1832957, 102236, 3308010, 2926893, 388234, 1800005, 2094761, 2721963, 844733, 2136777, 2926893, 813364, 2136777, 1673227, 1633337, 1021563, 102236, 1800005, 1477139, 2470674, 1220886, 2470674, 1648217, 264710, 1832957, 2721963, 2849370, 2625444, 871281, 1717990, 1220886, 1677118, 1730767, 1730767, 678116, 102236, 2136777, 61355, 2136777, 903110, 844733, 2849370, 1832957, 1730767, 2479011, 3383594, 61355, 1832957, 1021563, 1021563, 1959075, 1832957, 813364, 61355, 61355, 2926893, 1959075, 1648217, 2136777, 264710, 1800005, 2094761, 2926893, 1959075, 264710, 61355, 3308010, 2256933, 936852, 3308010, 1038146, 1183255, 2256933, 1832957, 1386261, 1713430, 1730767, 2136777, 3308010, 1717990, 171934, 1968313, 1717990, 2136777, 1648217, 1968313, 2652650, 733526, 1673227, 2849370, 61355, 3308010, 1169835, 3308010, 171934, 2999801, 1717990, 1386261, 936852, 1968313, 1713430, 1800005, 2136777, 264710, 264710, 2926893, 165801, 1598369, 2997021, 1730767, 61355, 1916118, 1730767, 3308010, 2479011, 2449164, 61355, 3125735, 2094761, 1888628, 3125735, 264710, 171934, 1800005, 1038146, 1959075, 102236, 3308010, 1386261, 1800005, 2470674, 2926893, 2470674, 102236, 3308010, 1717990, 903110, 2997021, 129627, 3383594, 3308010, 1386261, 854647, 102236, 1038146, 3308010, 936852, 264710, 264710, 1800005, 61355, 1220886, 2136777, 293169, 1800005, 1888628, 813364, 2136777, 61355, 1730767, 1021563, 2721963, 1730767, 1564093, 3308010, 2849370, 3308010, 1302315, 1888628, 61355, 1959075, 61355, 2136777, 733526, 3308010, 1730767, 1183255, 264710, 1730767, 678116, 2721963, 2136777, 3308010, 2721963, 2409109, 871281, 171934, 678116, 2849370, 813364, 3125735, 1730767, 61355, 2999801, 1648217, 936852, 3125735, 61355, 2849370, 1220886, 1959075, 2256933, 171934, 2926893, 2926893, 404157, 2136777, 3308010, 1021563, 404157, 171934, 61355, 2094761, 1832957, 293169, 813364, 293169, 3125735, 1021563, 1800005, 3308010, 936852, 264710, 171934, 888470, 1673227, 871281, 1800005, 3308010, 1730767, 180546, 2621907, 1730767, 936852, 1959075, 1169835, 1730767, 2926893, 854647, 2449164, 3308010, 2470674, 1183255, 61355, 1386261, 903110, 2094761, 903110, 264710, 1648217, 293169, 2479011, 1730767, 1730767, 2926893, 61355, 3125735, 1959075, 2409109, 2926893, 1021563, 1386261, 3308010, 2926893, 1800005, 61355, 2449164, 102236, 3308010, 1308785, 1800005, 2926893, 61355, 2136777, 1717990, 3308010, 1730767, 871281, 1673227, 102236, 2136777, 1717990, 813364, 1800005, 1959075, 813364, 165801, 2136777, 2729254, 1673227, 1961723, 61355, 1183255, 2136777, 1302315, 1386261, 2849370, 171934, 2136777, 3308010, 733526, 1959075, 9310, 813364, 2170451, 1800005, 404157, 871281, 3125735, 2721963, 404157, 129627, 678116, 2926893, 264710, 2256933, 102236, 102236, 1021563, 264710, 2926893, 936852, 102236, 1968313, 936852, 293169, 2136777, 2136777, 61355, 1183255, 1730767, 1800005, 2479011, 1386261, 1800005, 1673227, 3308010, 2926893, 2926893, 61355, 1832957, 1717990, 813364, 2999801, 264710, 3308010, 3347453, 3308010, 936852, 813364, 404157, 171934, 903110, 871281, 102236, 61355, 813364, 102236, 3308010, 1800005, 1832957, 2479011, 171934, 171934, 844733, 3308010, 171934, 1800005, 404157, 1673227, 3383594, 3308010, 2136777, 102236, 1717990, 2094761, 102236, 1959075, 171934, 2136777, 1386261, 2136777, 2449164, 171934, 3308010, 1220886, 2136777, 1959075, 2136777, 171934, 936852, 3308010, 2470674, 871281, 2721963, 102236, 61355, 3125735, 3308010, 1386261, 1717990, 293169, 61355, 1386261, 2721963, 2136777, 1888628, 264710, 1564093, 2136777, 1730767, 2849370, 2721963, 293169, 264710, 2721963, 3125735, 1959075, 404157, 171934, 61355, 1959075, 871281, 61355, 1183255, 1673227, 2849370, 1477139, 1730767, 903110, 844733, 3308010, 1673227, 61355, 171934, 2926893, 2926893, 1959075, 2479011, 3347453, 2721963, 2625444, 171934, 813364, 102236, 61355, 844733, 2721963, 1302315, 813364, 61355, 2926893, 1968313, 1968313, 264710, 1717990, 1730767, 2136777, 2721963, 2136777, 2721963, 171934, 171934, 2979697, 1730767, 1888628, 1625713, 2136777, 1800005, 2094761, 1961723, 1564093, 1959075, 1916118, 61355, 2997021, 293169, 3308010, 1529171, 61355, 2256933, 1959075, 2449164, 1673227, 2479011, 1888628, 1800005, 2470674, 1386261, 3125735, 2721963, 2926893, 1800005, 1386261, 2136777, 61355, 171934, 3308010, 61355, 936852, 61355, 936852, 293169, 1386261, 171934, 1800005, 871281, 3125735, 61355, 1959075, 1968313, 1717990, 3308010, 844733, 129627, 844733, 264710, 165801, 1386261, 2136777, 2721963, 1730767, 3125735, 2136777, 1183255, 171934, 936852, 854647, 1386261, 2926893, 1961723, 61355, 1730767, 1633337, 61355, 1959075, 102236, 404157, 1968313, 1386261, 2136777, 2999801, 1529171, 2721963, 61355, 3383594, 1730767, 936852, 2926893, 102236, 1959075, 102236, 1713430, 3383594, 102236, 1959075, 678116, 2449164, 844733, 61355, 3308010, 61355, 2136777, 264710, 171934, 813364, 3308010, 1730767, 61355, 102236, 61355, 1717990, 3308010, 1968313, 129627, 936852, 61355, 61355, 165801, 2409109, 2926893, 61355, 1961723, 1832957, 1961723, 1183255, 61355, 2999801, 1220886, 3125735, 171934, 388234, 102236, 102236, 61355, 2721963, 1800005, 1968313, 2136777, 61355, 1220886, 61355, 936852, 1673227, 936852, 1673227, 1625713, 171934, 2136777, 1800005, 1730767, 264710, 102236, 61355, 903110, 2136777, 1959075, 3125735, 171934, 1169835, 3308010, 61355, 1959075, 2721963, 813364, 1477139, 1888628, 1730767, 1959075, 2479011, 3308010, 2721963, 1717990, 2409109, 171934, 171934, 1183255, 1800005, 171934, 2136777, 388234, 264710, 61355, 1730767, 1717990, 1916118, 264710, 3125735, 1959075, 813364, 3347453, 293169, 171934, 1386261, 1183255, 1717990, 1308785, 2625444, 171934, 102236, 1386261, 1968313, 1386261, 404157, 1959075, 1832957, 1961723, 936852, 1386261, 2449164, 171934, 1959075, 2449164, 180546, 1183255, 1386261, 1968313, 2136777, 3308010, 2479011, 2979697, 1888628, 1832957, 1961723, 1800005, 1633337, 404157, 1673227, 1832957]\n"
     ]
    }
   ],
   "source": [
    "# Guarda todas las IDs de pedidos que tengan un valor ausente en 'add_to_cart_order'\n",
    "\n",
    "ausentes = order_products[order_products['add_to_cart_order'].isna()] #Se guarda en la variable ausentes\n",
    "ids_ausentes = order_products[order_products['add_to_cart_order'].isna()]['order_id'].tolist() #Se guarda en una lista en ids_ausentes\n",
    "print()\n",
    "print(ausentes)\n",
    "print()\n",
    "print(ids_ausentes)"
   ]
  },
  {
   "cell_type": "code",
   "execution_count": 30,
   "id": "54c31695",
   "metadata": {
    "colab": {
     "base_uri": "https://localhost:8080/"
    },
    "id": "54c31695",
    "outputId": "2528bff7-0619-4d92-df75-d4940b6b72ad"
   },
   "outputs": [
    {
     "name": "stdout",
     "output_type": "stream",
     "text": [
      "         order_id  product_id  add_to_cart_order  reordered\n",
      "737       2449164        5068                NaN          0\n",
      "9926      1968313       43867                NaN          0\n",
      "14394     2926893       11688                NaN          0\n",
      "16418     1717990        4142                NaN          0\n",
      "30114     1959075       42828                NaN          1\n",
      "...           ...         ...                ...        ...\n",
      "4505662   1800005        7411                NaN          0\n",
      "4511400   1633337         260                NaN          0\n",
      "4517562    404157        9517                NaN          0\n",
      "4534112   1673227       17835                NaN          0\n",
      "4535739   1832957       17949                NaN          1\n",
      "\n",
      "[836 rows x 4 columns]\n",
      "\n",
      "count    70.000000\n",
      "mean     11.942857\n",
      "std      12.898585\n",
      "min       1.000000\n",
      "25%       3.000000\n",
      "50%       7.000000\n",
      "75%      14.000000\n",
      "max      63.000000\n",
      "Name: product_id, dtype: float64\n"
     ]
    }
   ],
   "source": [
    "# ¿Todos los pedidos con valores ausentes tienen más de 64 productos?\n",
    "# Agrupa todos los pedidos con datos ausentes por su ID de pedido.\n",
    "# Cuenta el número de 'product_id' en cada pedido y revisa el valor mínimo del conteo.\n",
    "\n",
    "print(order_products[order_products['add_to_cart_order'].isna()])\n",
    "print()\n",
    "conteo_productos = ausentes.groupby('order_id')['product_id'].count()\n",
    "print(conteo_productos.describe())\n",
    "#Con esto evidencio que ningun valor ausente tiene mas de 64 productos, el maximo es 63 productos.\n",
    "\n",
    "\n"
   ]
  },
  {
   "cell_type": "markdown",
   "id": "p9V6pddtjglj",
   "metadata": {
    "id": "p9V6pddtjglj"
   },
   "source": [
    "Describe brevemente cuáles son tus hallazgos."
   ]
  },
  {
   "cell_type": "code",
   "execution_count": 31,
   "id": "7a987d08",
   "metadata": {
    "colab": {
     "base_uri": "https://localhost:8080/"
    },
    "id": "7a987d08",
    "outputId": "4a0ac177-2828-4c64-ff10-5ca91b496e0f"
   },
   "outputs": [
    {
     "name": "stdout",
     "output_type": "stream",
     "text": [
      "Valores ausentes add_to_cart_order antes de reemplazarlos \n",
      " 836\n",
      "Valores ausentes add_to_cart_order despues de reemplazarlos \n",
      " 0\n",
      "\n",
      "<class 'pandas.core.frame.DataFrame'>\n",
      "RangeIndex: 4545007 entries, 0 to 4545006\n",
      "Data columns (total 4 columns):\n",
      " #   Column             Dtype \n",
      "---  ------             ----- \n",
      " 0   order_id           int64 \n",
      " 1   product_id         int64 \n",
      " 2   add_to_cart_order  object\n",
      " 3   reordered          int64 \n",
      "dtypes: int64(3), object(1)\n",
      "memory usage: 138.7+ MB\n",
      "None\n",
      "\n",
      "<class 'pandas.core.frame.DataFrame'>\n",
      "RangeIndex: 4545007 entries, 0 to 4545006\n",
      "Data columns (total 4 columns):\n",
      " #   Column             Dtype\n",
      "---  ------             -----\n",
      " 0   order_id           int64\n",
      " 1   product_id         int64\n",
      " 2   add_to_cart_order  int64\n",
      " 3   reordered          int64\n",
      "dtypes: int64(4)\n",
      "memory usage: 138.7 MB\n",
      "None\n"
     ]
    }
   ],
   "source": [
    "# Remplaza los valores ausentes en la columna 'add_to_cart? con 999 y convierte la columna al tipo entero.\n",
    "print('Valores ausentes add_to_cart_order antes de reemplazarlos \\n',order_products['add_to_cart_order'].isna().sum())\n",
    "order_products['add_to_cart_order'] =order_products['add_to_cart_order'].fillna('999')\n",
    "print('Valores ausentes add_to_cart_order despues de reemplazarlos \\n',order_products['add_to_cart_order'].isna().sum())\n",
    "print()\n",
    "print(order_products.info())\n",
    "order_products['add_to_cart_order'] = order_products['add_to_cart_order'].astype(int) #Pasamos la columna a entero\n",
    "print()\n",
    "print(order_products.info())"
   ]
  },
  {
   "cell_type": "markdown",
   "id": "RnplPFY1gSrb",
   "metadata": {
    "id": "RnplPFY1gSrb"
   },
   "source": [
    "# Conclusiones\n",
    "\n",
    "Escribe aquí tus conclusiones intermedias sobre el Paso 2. Preprocesamiento de los datos\n",
    "\n",
    "##Preprocesamiento de los datos\n",
    "\n",
    "##Valores duplicados:\n",
    "\n",
    "Se identificaron duplicados explícitos y duplicados implícitos.\n",
    "Duplicados explícitos: Filas idénticas en la base instacart_orders que fueron eliminadas utilizando drop_duplicates().\n",
    "Duplicados implícitos: Productos con nombres iguales pero asociados a diferentes categorías o IDs, posiblemente causados por inconsistencias en la gestión de la base de datos. Estos duplicados se analizaron cuidadosamente y, en algunos casos, se consolidaron o eliminaron con drop.duplicates() dependiendo del contexto.\n",
    "Razón de los duplicados: Pueden haber surgido debido a actualizaciones incompletas en los registros o errores humanos al ingresar datos.\n",
    "\n",
    "##Valores ausentes:\n",
    "\n",
    "Se encontraron valores ausentes en columnas clave como add_to_cart_order, days_since_prior_order y product_name.\n",
    "\n",
    "Para el caso de la base products, los valores ausentes corresponden a missing. Esto lo determinamos porque están asignados a aisle_id = 100 y a department_id =21, ambos categorizados como missing. Sin embargo, casi todos los valores ausentes también estaban duplicados. Al limpiar la base de los duplicados se eliminaron casi todos los ausentes.\n",
    "Al final este valor ausente que quedó se reemplazo por Unknown.\n",
    "\n",
    "Para el caso del DataFrame instacart_orders, para  los NaN en days_since_prior_order, se evidencia que la variable order_number es 1; es decir, es el primer pedido del cliente y no hay mas ausentes que no sea por el primer pedido del cliente.\n",
    "\n",
    "Por ultimo, en la base order_products, la variable add_to_cart_order, sus valores ausentes se reemplazaron por 999 y se pasaron a numero entero\n",
    "\n",
    "###Impacto del preprocesamiento:\n",
    "\n",
    "Eliminar y completar los valores ausentes y duplicados asegura que el conjunto de datos sea más limpio y confiable para análisis posteriores.\n",
    "Estas acciones redujeron el sesgo potencial que podrían haber causado los valores ausentes y duplicados, mejorando la calidad del modelo de datos.\n",
    "Lecciones aprendidas:\n",
    "\n",
    "El preprocesamiento es fundamental para garantizar que los datos sean consistentes, completos y relevantes.\n",
    "Este proceso ayudó a identificar áreas críticas donde los datos iniciales tenían problemas significativos que podrían haber"
   ]
  },
  {
   "cell_type": "markdown",
   "id": "UjrOIwTcz3ri",
   "metadata": {
    "id": "UjrOIwTcz3ri"
   },
   "source": [
    "# Paso 3. Análisis de los datos\n",
    "\n",
    "Una vez los datos estén procesados y listos, haz el siguiente análisis:"
   ]
  },
  {
   "cell_type": "markdown",
   "id": "turkish-kidney",
   "metadata": {
    "id": "turkish-kidney"
   },
   "source": [
    "# [A] Fácil (deben completarse todos para aprobar)\n",
    "\n",
    "1. Verifica que los valores en las columnas `'order_hour_of_day'` y `'order_dow'` en la tabla orders sean razonables (es decir, `'order_hour_of_day'` oscile entre 0 y 23 y `'order_dow'` oscile entre 0 y 6).\n",
    "2. Crea un gráfico que muestre el número de personas que hacen pedidos dependiendo de la hora del día.\n",
    "3. Crea un gráfico que muestre qué día de la semana la gente hace sus compras.\n",
    "4. Crea un gráfico que muestre el tiempo que la gente espera hasta hacer su siguiente pedido, y comenta sobre los valores mínimos y máximos."
   ]
  },
  {
   "cell_type": "markdown",
   "id": "short-capability",
   "metadata": {
    "id": "short-capability"
   },
   "source": [
    "### [A1] Verifica que los valores sean sensibles"
   ]
  },
  {
   "cell_type": "code",
   "execution_count": 32,
   "id": "growing-fruit",
   "metadata": {
    "colab": {
     "base_uri": "https://localhost:8080/"
    },
    "id": "growing-fruit",
    "outputId": "7dd7e2c5-3ea3-4a3f-efe7-cd1a5fbdb1c1"
   },
   "outputs": [
    {
     "name": "stdout",
     "output_type": "stream",
     "text": [
      "           order_id        user_id   order_number      order_dow  \\\n",
      "count  4.789520e+05  478952.000000  478952.000000  478952.000000   \n",
      "mean   1.709953e+06  102966.654911      17.157563       2.775051   \n",
      "std    9.869537e+05   59525.292863      17.704457       2.045901   \n",
      "min    4.000000e+00       2.000000       1.000000       0.000000   \n",
      "25%    8.564698e+05   51413.750000       5.000000       1.000000   \n",
      "50%    1.709521e+06  102633.000000      11.000000       3.000000   \n",
      "75%    2.563002e+06  154419.000000      23.000000       5.000000   \n",
      "max    3.421079e+06  206209.000000     100.000000       6.000000   \n",
      "\n",
      "       order_hour_of_day  days_since_prior_order  \n",
      "count      478952.000000           450135.000000  \n",
      "mean           13.447034               11.101814  \n",
      "std             4.224567                9.190004  \n",
      "min             0.000000                0.000000  \n",
      "25%            10.000000                4.000000  \n",
      "50%            13.000000                7.000000  \n",
      "75%            16.000000               15.000000  \n",
      "max            23.000000               30.000000  \n",
      "\n",
      "<class 'pandas.core.frame.DataFrame'>\n",
      "RangeIndex: 478952 entries, 0 to 478951\n",
      "Data columns (total 6 columns):\n",
      " #   Column                  Non-Null Count   Dtype  \n",
      "---  ------                  --------------   -----  \n",
      " 0   order_id                478952 non-null  int64  \n",
      " 1   user_id                 478952 non-null  int64  \n",
      " 2   order_number            478952 non-null  int64  \n",
      " 3   order_dow               478952 non-null  int64  \n",
      " 4   order_hour_of_day       478952 non-null  int64  \n",
      " 5   days_since_prior_order  450135 non-null  float64\n",
      "dtypes: float64(1), int64(5)\n",
      "memory usage: 21.9 MB\n",
      "None\n",
      "\n",
      "Valores de order_hour_of_day \n",
      " [0, 1, 2, 3, 4, 5, 6, 7, 8, 9, 10, 11, 12, 13, 14, 15, 16, 17, 18, 19, 20, 21, 22, 23]\n",
      "\n",
      "Valores de order_dow \n",
      " [0, 1, 2, 3, 4, 5, 6]\n"
     ]
    }
   ],
   "source": [
    "#Verifica que los valores en las columnas 'order_hour_of_day' y 'order_dow' en la tabla orders sean razonables (es decir, 'order_hour_of_day' oscile entre 0 y 23 y 'order_dow' oscile entre 0 y 6).\n",
    "#Se hace la verificación correspondiente y las dos variales si son razonables, son numero enteros y estan entre los rangos requeridos\n",
    "print(instacart.describe())\n",
    "print()\n",
    "print(instacart.info())\n",
    "print()\n",
    "print('Valores de order_hour_of_day \\n',sorted(instacart['order_hour_of_day'].unique()))\n",
    "print()\n",
    "print('Valores de order_dow \\n',sorted(instacart['order_dow'].unique()))"
   ]
  },
  {
   "cell_type": "markdown",
   "id": "hmR2GNQ6lCsX",
   "metadata": {
    "id": "hmR2GNQ6lCsX"
   },
   "source": [
    "Escribe aquí tus conclusiones\n",
    "\n",
    "Se hace la verificación correspondiente y las dos variales si son razonables, son numero enteros y estan entre los rangos requeridos\n"
   ]
  },
  {
   "cell_type": "markdown",
   "id": "a6743a70",
   "metadata": {
    "id": "a6743a70"
   },
   "source": [
    "### [A2] Para cada hora del día, ¿cuántas personas hacen órdenes?"
   ]
  },
  {
   "cell_type": "code",
   "execution_count": 33,
   "id": "a36cca27",
   "metadata": {
    "colab": {
     "base_uri": "https://localhost:8080/",
     "height": 476
    },
    "id": "a36cca27",
    "outputId": "9e61d883-2925-4848-d239-ae601ab12830"
   },
   "outputs": [
    {
     "data": {
      "image/png": "[encoded data removed]",
      "text/plain": [
       "<Figure size 640x480 with 1 Axes>"
      ]
     },
     "metadata": {},
     "output_type": "display_data"
    }
   ],
   "source": [
    "#2. Crea un gráfico que muestre el número de personas que hacen pedidos dependiendo de la hora del día.\n",
    "hourly_orders = instacart.groupby('order_hour_of_day')['user_id'].nunique() #Agrupamos por order_hour_of_day y contamos cuantos usuarios hay por cada hora del dia\n",
    "hourly_orders.plot(x='order_hour_of_day', y='user_id',\n",
    "                   kind='bar',\n",
    "                   title='Número de Personas que Hacen Pedidos por Hora del Día',\n",
    "                   xlabel='Hora del Día',\n",
    "                   ylabel='Número de Personas')\n",
    "plt.show()"
   ]
  },
  {
   "cell_type": "markdown",
   "id": "11270eed",
   "metadata": {
    "id": "11270eed"
   },
   "source": [
    "Escribe aquí tus conclusiones\n",
    "\n",
    "La distribución me indica que las personas van mas frecuentemente en la franja entre 10 am y 4 pm\n"
   ]
  },
  {
   "cell_type": "markdown",
   "id": "documented-command",
   "metadata": {
    "id": "documented-command"
   },
   "source": [
    "### [A3] ¿Qué día de la semana compran víveres las personas?"
   ]
  },
  {
   "cell_type": "code",
   "execution_count": 34,
   "id": "chief-digit",
   "metadata": {
    "colab": {
     "base_uri": "https://localhost:8080/",
     "height": 467
    },
    "id": "chief-digit",
    "outputId": "0acf09dc-65b0-43f1-acb5-15a6256a7cc9"
   },
   "outputs": [
    {
     "data": {
      "image/png": "[encoded data removed]",
      "text/plain": [
       "<Figure size 640x480 with 1 Axes>"
      ]
     },
     "metadata": {},
     "output_type": "display_data"
    }
   ],
   "source": [
    "#3. Crea un gráfico que muestre qué día de la semana la gente hace sus compras.\n",
    "weekly_orders = instacart.groupby('order_dow')['user_id'].nunique() #Agrupamos por order_dow y contamos cuantos usuarios hay por cada dia de la semana\n",
    "weekly_orders.plot(x='order_dow', y='user_id',\n",
    "                   kind='bar',\n",
    "                   title='Número de Personas que Hacen Pedidos por día de la semana',\n",
    "                   xlabel='Día de la semana',\n",
    "                   ylabel='Número de Personas')\n",
    "plt.show()"
   ]
  },
  {
   "cell_type": "markdown",
   "id": "dominant-lightning",
   "metadata": {
    "id": "dominant-lightning"
   },
   "source": [
    "Escribe aquí tus conclusiones\n",
    "\n",
    "Domingos y lunes son los dias que mas personas hacen compras. Caso contrario, miercoles y jueves son los dias que menos personas hacen compras"
   ]
  },
  {
   "cell_type": "markdown",
   "id": "cutting-concert",
   "metadata": {
    "id": "cutting-concert"
   },
   "source": [
    "### [A4] ¿Cuánto tiempo esperan las personas hasta hacer otro pedido? Comenta sobre los valores mínimos y máximos."
   ]
  },
  {
   "cell_type": "code",
   "execution_count": 35,
   "id": "c231f523",
   "metadata": {
    "colab": {
     "base_uri": "https://localhost:8080/",
     "height": 632
    },
    "id": "c231f523",
    "outputId": "f6c6a751-9299-449b-c034-a61ce55740a2"
   },
   "outputs": [
    {
     "name": "stdout",
     "output_type": "stream",
     "text": [
      "count    478952.000000\n",
      "mean         10.433853\n",
      "std           9.292153\n",
      "min           0.000000\n",
      "25%           4.000000\n",
      "50%           7.000000\n",
      "75%          15.000000\n",
      "max          30.000000\n",
      "Name: days_since_prior_order, dtype: float64\n"
     ]
    },
    {
     "data": {
      "image/png": "[encoded data removed]",
      "text/plain": [
       "<Figure size 640x480 with 1 Axes>"
      ]
     },
     "metadata": {},
     "output_type": "display_data"
    }
   ],
   "source": [
    "#4. Crea un gráfico que muestre el tiempo que la gente espera hasta hacer su siguiente pedido, y comenta sobre los valores mínimos y máximos.\n",
    "instacart['days_since_prior_order'] = instacart['days_since_prior_order'].fillna(0).astype(int) #Se pasa la variable days_since_prior_order a entero para que visualmente quede mejor\n",
    "waiting_orders = instacart.groupby('days_since_prior_order')['user_id'].nunique() #Agrupamos por days_since_prior_order y contamos cuantos usuarios hay por cada dia pasado\n",
    "print(instacart['days_since_prior_order'].describe())\n",
    "waiting_orders.plot(x='days_since_prior_order', y='user_id',\n",
    "                   kind='bar',\n",
    "                   title='Cuantos días esperan los usuarios para volver a comprar',\n",
    "                   xlabel='Días de espera',\n",
    "                   ylabel='Número de Personas')\n",
    "plt.show()"
   ]
  },
  {
   "cell_type": "markdown",
   "id": "discrete-vertex",
   "metadata": {
    "id": "discrete-vertex"
   },
   "source": [
    "Escribe aquí tus conclusiones\n",
    "\n",
    "Los días de espera están entre 0 y 30, representando a quienes no esperan ni un día y a quienes compran una vez al mes.\n",
    "Estos dos valores son los de mayor frecuencia, siendo 30 días el indiscutible ganador. Es decir, en la distribución, los usuarios realizan compras una vez al mes. Por otro lado, quienes esperan 0 días posiblemente sean usuarios que olvidaron agregar algo al carrito tras haber pagado, y luego regresaron para comprar lo que les faltaba.\n",
    "Adicional para tener en cuenta, a pesar que 30 es el dia con mas frencuencia, gran parte de los datos se encuentrran agrupados entre 1 y 10 dias."
   ]
  },
  {
   "cell_type": "markdown",
   "id": "tight-staff",
   "metadata": {
    "id": "tight-staff"
   },
   "source": [
    "# [B] Intermedio (deben completarse todos para aprobar)\n",
    "\n",
    "1. ¿Existe alguna diferencia entre las distribuciones `'order_hour_of_day'` de los miércoles y los sábados? Traza gráficos de barra de `'order_hour_of_day'` para ambos días en la misma figura y describe las diferencias que observes.\n",
    "2. Grafica la distribución para el número de órdenes que hacen los clientes (es decir, cuántos clientes hicieron solo 1 pedido, cuántos hicieron 2, cuántos 3, y así sucesivamente...).\n",
    "3. ¿Cuáles son los 20 principales productos que se piden con más frecuencia (muestra su identificación y nombre)?"
   ]
  },
  {
   "cell_type": "markdown",
   "id": "packed-classic",
   "metadata": {
    "id": "packed-classic"
   },
   "source": [
    "### [B1] Diferencia entre miércoles y sábados para  `'order_hour_of_day'`. Traza gráficos de barra para los dos días y describe las diferencias que veas."
   ]
  },
  {
   "cell_type": "code",
   "execution_count": 36,
   "id": "d89b8403",
   "metadata": {
    "colab": {
     "base_uri": "https://localhost:8080/",
     "height": 476
    },
    "id": "d89b8403",
    "outputId": "0046e228-f097-4a58-deac-1e216e0d3f59"
   },
   "outputs": [
    {
     "data": {
      "image/png": "[encoded data removed]",
      "text/plain": [
       "<Figure size 640x480 with 1 Axes>"
      ]
     },
     "metadata": {},
     "output_type": "display_data"
    }
   ],
   "source": [
    "#¿Existe alguna diferencia entre las distribuciones 'order_hour_of_day' de los miércoles y los sábados? Traza gráficos de barra de 'order_hour_of_day' para ambos días en la misma figura y describe las diferencias que observes.\n",
    "wednesday_data=instacart[instacart['order_dow']==3].groupby('order_hour_of_day')['user_id'].nunique() #Filtramos por el dia miercoles y agrupamos por order_hour_of_day y contamos cuantos usuarios hay por cada hora del dia\n",
    "saturday_data=instacart[instacart['order_dow']==6].groupby('order_hour_of_day')['user_id'].nunique() #Filtramos por dia sabado y agrupamos por order_hour_of_day y contamos cuantos usuarios hay por cada hora del dia\n",
    "#Creamos la grafica\n",
    "wednesday_data.plot(x='order_hour_of_day', y='user_id',\n",
    "                   kind='bar',\n",
    "                   title='Número de Personas que Hacen Pedidos por Hora del Día para el Miercoles',\n",
    "                   xlabel='Hora del Día',\n",
    "                  color= 'blue', alpha = 0.7)\n",
    "\n",
    "saturday_data.plot(x='order_hour_of_day', y='user_id',\n",
    "                   kind='bar',\n",
    "                   title='Número de Personas que Hacen Pedidos por Hora del Día para el Sabado',\n",
    "                   xlabel='Hora del Día',\n",
    "                    color= 'orange', alpha = 0.2)\n",
    "\n",
    "week_day = ['wednesday_data','saturday_data']\n",
    "plt.legend(['Wednesday','Saturday'])\n",
    "plt.show([week_day])"
   ]
  },
  {
   "cell_type": "markdown",
   "id": "charitable-congo",
   "metadata": {
    "id": "charitable-congo"
   },
   "source": [
    "Escribe aquí tus conclusiones\n",
    "\n",
    "Sabado tiene mas datos por ende sus barras son mas largas. Sin embargo, se evidencia que la distribución de datos es parecida. Sin embargo, las horas mas relevante para los sabados son entre la 12pm y 2pm; y para los miercoles es entre 10 am y 11 am y entre las 3pm y 4pm"
   ]
  },
  {
   "cell_type": "markdown",
   "id": "e3891143",
   "metadata": {
    "id": "e3891143"
   },
   "source": [
    "### [B2] ¿Cuál es la distribución para el número de pedidos por cliente?"
   ]
  },
  {
   "cell_type": "code",
   "execution_count": 37,
   "id": "d8c26c23",
   "metadata": {
    "colab": {
     "base_uri": "https://localhost:8080/",
     "height": 632
    },
    "id": "d8c26c23",
    "outputId": "872e92a8-9bd8-45a5-cdfd-98118eb10258"
   },
   "outputs": [
    {
     "name": "stdout",
     "output_type": "stream",
     "text": [
      "count    478952.000000\n",
      "mean         17.157563\n",
      "std          17.704457\n",
      "min           1.000000\n",
      "25%           5.000000\n",
      "50%          11.000000\n",
      "75%          23.000000\n",
      "max         100.000000\n",
      "Name: order_number, dtype: float64\n"
     ]
    },
    {
     "data": {
      "image/png": "[encoded data removed]",
      "text/plain": [
       "<Figure size 640x480 with 1 Axes>"
      ]
     },
     "metadata": {},
     "output_type": "display_data"
    }
   ],
   "source": [
    "#2 Grafica la distribución para el número de órdenes que hacen los clientes (es decir, cuántos clientes hicieron solo 1 pedido, cuántos hicieron 2, cuántos 3, y así sucesivamente...)\n",
    "print(instacart['order_number'].describe())\n",
    "number_orders = instacart.groupby('order_number')['user_id'].nunique() #Agrupamos por days_since_prior_order y contamos cuantos usuarios hay por cada dia pasado\n",
    "#Para tener presente: segun lo que vimos con .describe(), el 75% de los datos se encuentran por debajo de 23 ordenes. El rango de la varable se encuentra entre 1 y 100, pero el pareto está hasta los 30 pedidos.\n",
    "#Por fines visuales, se establece que la grafica iria hasta 30 ordenes\n",
    "filtered_number_orders = number_orders[number_orders.index <= 30]\n",
    "filtered_number_orders.plot(x='order_number', y='user_id',\n",
    "                   kind='bar',\n",
    "                   title='Número de Pedidos por Cliente',\n",
    "                   xlabel='Número de Pedidos',\n",
    "                   ylabel='Número de Clientes')\n",
    "plt.show()\n"
   ]
  },
  {
   "cell_type": "markdown",
   "id": "d2eff7d5",
   "metadata": {
    "id": "d2eff7d5"
   },
   "source": [
    "Escribe aquí tus conclusiones\n",
    "\n",
    "\n",
    "Como se evidencia, la grafica tiene una distribución sesgada hacia la derecha.\n",
    "La mayoria de usuarios hace de 1 a 4 pedidos y la frecuencia en pedidos va disminuyendo."
   ]
  },
  {
   "cell_type": "markdown",
   "id": "54a0319c",
   "metadata": {
    "id": "54a0319c"
   },
   "source": [
    "### [B3] ¿Cuáles son los 20 productos más populares (muestra su ID y nombre)?"
   ]
  },
  {
   "cell_type": "code",
   "execution_count": 38,
   "id": "exterior-arizona",
   "metadata": {
    "colab": {
     "base_uri": "https://localhost:8080/"
    },
    "id": "exterior-arizona",
    "outputId": "7ab52f97-cb84-4549-d070-7a4b5cfe4050",
    "scrolled": true
   },
   "outputs": [
    {
     "name": "stdout",
     "output_type": "stream",
     "text": [
      "    product_id  order_count              product_name\n",
      "0        24852        66050                    banana\n",
      "1        13176        53297    bag of organic bananas\n",
      "2        21137        37039      organic strawberries\n",
      "3        21903        33971      organic baby spinach\n",
      "4        47209        29773      organic hass avocado\n",
      "5        47766        24689           organic avocado\n",
      "6        47626        21495               large lemon\n",
      "7        16797        20018              strawberries\n",
      "8        26209        19690                     limes\n",
      "9        27845        19600        organic whole milk\n",
      "10       27966        19197       organic raspberries\n",
      "11       22935        15898      organic yellow onion\n",
      "12       24964        15292            organic garlic\n",
      "13       45007        14584          organic zucchini\n",
      "14       39275        13879       organic blueberries\n",
      "15       49683        13675            cucumber kirby\n",
      "16       28204        12544        organic fuji apple\n",
      "17        5876        12232             organic lemon\n",
      "18        8277        11993  apple honeycrisp organic\n",
      "19       40706        11781    organic grape tomatoes\n"
     ]
    }
   ],
   "source": [
    "#3. ¿Cuáles son los 20 principales productos que se piden con más frecuencia (muestra su identificación y nombre)?\n",
    "# Encontramos los 20 productos más populares agrupando por product_id y contando el numero de usuarios por producto\n",
    "popular_products = order_products.groupby('product_id')['order_id'].count().sort_values(ascending=False).head(20)\n",
    "\n",
    "# Convertimos el resultado a un DataFrame para poder traernos el nombre del producto de otro DataFrame\n",
    "popular_products = popular_products.reset_index().rename(columns={'order_id': 'order_count'})\n",
    "\n",
    "# Agregamos los nombres de los productos usando un merge con la tabla products\n",
    "popular_products_with_names = popular_products.merge(products[['product_id', 'product_name']], on='product_id', how='left')\n",
    "\n",
    "\n",
    "print(popular_products_with_names)\n"
   ]
  },
  {
   "cell_type": "markdown",
   "id": "7df00f47",
   "metadata": {
    "id": "7df00f47"
   },
   "source": [
    "Escribe aquí tus conclusiones\n",
    "\n",
    "Frutas y verduras son los productos con mayor frecuencia de compra, liderado por los babanos principalmente\n"
   ]
  },
  {
   "cell_type": "markdown",
   "id": "gross-theme",
   "metadata": {
    "id": "gross-theme"
   },
   "source": [
    "# [C] Difícil (deben completarse todos para aprobar)\n",
    "\n",
    "1. ¿Cuántos artículos suelen comprar las personas en un pedido? ¿Cómo es la distribución?\n",
    "2. ¿Cuáles son los 20 principales artículos que vuelven a pedirse con mayor frecuencia (muestra sus nombres e IDs de los productos)?\n",
    "3. Para cada producto, ¿cuál es la tasa de repetición del pedido (número de repeticiones de pedido/total de pedidos?\n",
    "4. Para cada cliente, ¿qué proporción de los productos que pidió ya los había pedido? Calcula la tasa de repetición de pedido para cada usuario en lugar de para cada producto.\n",
    "5. ¿Cuáles son los 20 principales artículos que la gente pone primero en sus carritos (muestra las IDs de los productos, sus nombres, y el número de veces en que fueron el primer artículo en añadirse al carrito)?"
   ]
  },
  {
   "cell_type": "markdown",
   "id": "romantic-deposit",
   "metadata": {
    "id": "romantic-deposit"
   },
   "source": [
    "### [C1] ¿Cuántos artículos compran normalmente las personas en un pedido? ¿Cómo es la distribución?"
   ]
  },
  {
   "cell_type": "code",
   "execution_count": 39,
   "id": "virtual-punch",
   "metadata": {
    "colab": {
     "base_uri": "https://localhost:8080/",
     "height": 629
    },
    "id": "virtual-punch",
    "outputId": "2209750d-fd17-4385-bb99-6691c27a8194"
   },
   "outputs": [
    {
     "name": "stdout",
     "output_type": "stream",
     "text": [
      "count    450046.000000\n",
      "mean         10.098983\n",
      "std           7.540206\n",
      "min           1.000000\n",
      "25%           5.000000\n",
      "50%           8.000000\n",
      "75%          14.000000\n",
      "max         127.000000\n",
      "Name: product_id, dtype: float64\n"
     ]
    },
    {
     "data": {
      "image/png": "[encoded data removed]",
      "text/plain": [
       "<Figure size 640x480 with 1 Axes>"
      ]
     },
     "metadata": {},
     "output_type": "display_data"
    }
   ],
   "source": [
    "#Primero agrupamos las ordenes por productos para contar cuantos productos tiene cada orden\n",
    "number_products_per_order = order_products.groupby('order_id')['product_id'].count()\n",
    "print(number_products_per_order.describe())\n",
    "#Creamos el grafico de histograma.\n",
    "number_products_per_order.plot(kind='hist', title='Distribución de Artículos por Pedido',\n",
    "                               xlabel='Número de Artículos por Pedido',\n",
    "                               ylabel='Frecuencia')\n",
    "plt.show()\n"
   ]
  },
  {
   "cell_type": "markdown",
   "id": "designed-mortality",
   "metadata": {
    "id": "designed-mortality"
   },
   "source": [
    "Escribe aquí tus conclusiones\n",
    "Mas de la mitad de los usuarios no compran mas de 10 productos por orden. Con .describe() vemos que el 75% de los datos tienen maximo 14 productos por orden y se evidencia en la grafica, a medida de crecen los productos la grafica cae fuertemente"
   ]
  },
  {
   "cell_type": "markdown",
   "id": "5e6b5537",
   "metadata": {
    "id": "5e6b5537"
   },
   "source": [
    "### [C2] ¿Cuáles son los 20 principales artículos que vuelven a pedirse con mayor frecuencia (muestra sus nombres e IDs de los productos)?"
   ]
  },
  {
   "cell_type": "code",
   "execution_count": 40,
   "id": "9374e55a",
   "metadata": {
    "colab": {
     "base_uri": "https://localhost:8080/"
    },
    "id": "9374e55a",
    "outputId": "ba354795-dcfe-4a6d-ecc2-e76dea9950ef"
   },
   "outputs": [
    {
     "name": "stdout",
     "output_type": "stream",
     "text": [
      "    product_id  order_count              product_name\n",
      "0        24852        55763                    banana\n",
      "1        13176        44450    bag of organic bananas\n",
      "2        21137        28639      organic strawberries\n",
      "3        21903        26233      organic baby spinach\n",
      "4        47209        23629      organic hass avocado\n",
      "5        47766        18743           organic avocado\n",
      "6        27845        16251        organic whole milk\n",
      "7        47626        15044               large lemon\n",
      "8        27966        14748       organic raspberries\n",
      "9        16797        13945              strawberries\n",
      "10       26209        13327                     limes\n",
      "11       22935        11145      organic yellow onion\n",
      "12       24964        10411            organic garlic\n",
      "13       45007        10076          organic zucchini\n",
      "14       49683         9538            cucumber kirby\n",
      "15       28204         8989        organic fuji apple\n",
      "16        8277         8836  apple honeycrisp organic\n",
      "17       39275         8799       organic blueberries\n",
      "18        5876         8412             organic lemon\n",
      "19       49235         8389       organic half & half\n"
     ]
    }
   ],
   "source": [
    "#3. ¿Cuáles son los 20 principales productos que se piden con más frecuencia (muestra su identificación y nombre)?\n",
    "#1ro filtramos productos reordenados\n",
    "reordered_products = order_products[order_products['reordered'] == 1]\n",
    "#2do encontramos los 20 productos reordenados más populares agrupando por product_id y contando el numero de usuarios por producto\n",
    "popular_reordered_products = reordered_products.groupby('product_id')['order_id'].count().sort_values(ascending=False).head(20)\n",
    "#3ro Convertimos el resultado a un DataFrame para poder traernos el nombre del producto de otro DataFrame\n",
    "popular_reordered_products = popular_reordered_products.reset_index().rename(columns={'order_id': 'order_count'})\n",
    "#4to Agregamos los nombres de los productos usando un merge con la tabla products\n",
    "popular_reordered_products_with_names = popular_reordered_products.merge(products[['product_id', 'product_name']], on='product_id', how='left')\n",
    "\n",
    "print(popular_reordered_products_with_names)"
   ]
  },
  {
   "cell_type": "markdown",
   "id": "80e70c74",
   "metadata": {
    "id": "80e70c74"
   },
   "source": [
    "Escribe aquí tus conclusiones\n",
    "La tabla comparada con el ejercicio anterior (B3) no cambia mucho. Cambian las cantidades pero se mantiene el top. Es decir, los productos mas pedidos por lo general son recomprados"
   ]
  },
  {
   "cell_type": "markdown",
   "id": "9d312b14",
   "metadata": {
    "id": "9d312b14"
   },
   "source": [
    "### [C3] Para cada producto, ¿cuál es la proporción de las veces que se pide y que se vuelve a pedir?"
   ]
  },
  {
   "cell_type": "code",
   "execution_count": 41,
   "id": "8ae9f4b1",
   "metadata": {
    "colab": {
     "base_uri": "https://localhost:8080/"
    },
    "id": "8ae9f4b1",
    "outputId": "6614dd43-663b-4ddd-e5a9-fcb1f2c599d9"
   },
   "outputs": [
    {
     "name": "stdout",
     "output_type": "stream",
     "text": [
      "            total_orders  times_reordered  reorder_ratio\n",
      "product_id                                              \n",
      "1                    280              158       0.564286\n",
      "2                     11                0       0.000000\n",
      "3                     42               31       0.738095\n",
      "4                     49               25       0.510204\n",
      "7                      2                1       0.500000\n",
      "\n",
      "            total_orders  times_reordered  reorder_ratio\n",
      "product_id                                              \n",
      "14721                  1                1            1.0\n",
      "20949                  3                3            1.0\n",
      "6723                  10               10            1.0\n",
      "6732                   3                3            1.0\n",
      "45088                  1                1            1.0\n",
      "\n",
      "<bound method NDFrame.head of        product_id  total_orders  times_reordered  reorder_ratio  \\\n",
      "0           14721             1                1            1.0   \n",
      "1           20949             3                3            1.0   \n",
      "2            6723            10               10            1.0   \n",
      "3            6732             3                3            1.0   \n",
      "4           45088             1                1            1.0   \n",
      "...           ...           ...              ...            ...   \n",
      "45568       10485             2                0            0.0   \n",
      "45569       37690             2                0            0.0   \n",
      "45570       10484             1                0            0.0   \n",
      "45571       10474             1                0            0.0   \n",
      "45572       42984             1                0            0.0   \n",
      "\n",
      "                                            product_name  \n",
      "0                                bone strength take care  \n",
      "1                               vanilla sandwich cookies  \n",
      "2                                       palmiers- petite  \n",
      "3                      naturally sparkling mineral water  \n",
      "4      california dill pollen & garlic goat cheese & ...  \n",
      "...                                                  ...  \n",
      "45568                                  caramel apple pop  \n",
      "45569  calypso fresh 2x concentrated scentsations 166...  \n",
      "45570                                 avocado and greens  \n",
      "45571                       nustevia white stevia powder  \n",
      "45572  salsa for all seasons half guacamole half roas...  \n",
      "\n",
      "[45573 rows x 5 columns]>\n",
      "\n",
      "       product_id  total_orders  times_reordered  reorder_ratio  \\\n",
      "1809        10236            21               20       0.952381   \n",
      "1810         5470            19               18       0.947368   \n",
      "1811         8867            18               17       0.944444   \n",
      "1812        20783            18               17       0.944444   \n",
      "1813        27041            16               15       0.937500   \n",
      "...           ...           ...              ...            ...   \n",
      "45568       10485             2                0       0.000000   \n",
      "45569       37690             2                0       0.000000   \n",
      "45570       10484             1                0       0.000000   \n",
      "45571       10474             1                0       0.000000   \n",
      "45572       42984             1                0       0.000000   \n",
      "\n",
      "                                            product_name  \n",
      "1809   fragrance free clay with natural odor eliminat...  \n",
      "1810                                    tequila reposado  \n",
      "1811                            artisan multigrain bread  \n",
      "1812                          super detox acai noni goji  \n",
      "1813                             mushroom stems & pieces  \n",
      "...                                                  ...  \n",
      "45568                                  caramel apple pop  \n",
      "45569  calypso fresh 2x concentrated scentsations 166...  \n",
      "45570                                 avocado and greens  \n",
      "45571                       nustevia white stevia powder  \n",
      "45572  salsa for all seasons half guacamole half roas...  \n",
      "\n",
      "[43764 rows x 5 columns]\n"
     ]
    }
   ],
   "source": [
    "# Agrupamos por product_id\n",
    "product_reorder_stats = order_products.groupby('product_id').agg(\n",
    "    total_orders=('reordered', 'count'),  # Total de pedidos\n",
    "    times_reordered=('reordered', 'sum')  # Veces que se volvió a pedir\n",
    ")\n",
    "\n",
    "# Calculamos la proporción dividiendo las veces que se volvió a pedir un producto entre el total de pedidos\n",
    "product_reorder_stats['reorder_ratio'] = product_reorder_stats['times_reordered'] / product_reorder_stats['total_orders']\n",
    "print(product_reorder_stats.head())\n",
    "print()\n",
    "# Ordenamos por proporción de reorder para ver los productos más recurrentes\n",
    "sorted_reorder_stats = product_reorder_stats.sort_values(by='reorder_ratio', ascending=False)\n",
    "print(sorted_reorder_stats.head())\n",
    "print()\n",
    "# Agregamos los nombres de los productos usando un merge con la tabla products\n",
    "popular_names = sorted_reorder_stats.merge(products[['product_id', 'product_name']], on='product_id', how='left')\n",
    "print(popular_names.head)\n",
    "print()\n",
    "#Hacemos una prueba filtrando el ratio menos a 1 para ver los productos\n",
    "print(popular_names[popular_names['reorder_ratio'] < 1])"
   ]
  },
  {
   "cell_type": "markdown",
   "id": "I10dEIAyldcO",
   "metadata": {
    "id": "I10dEIAyldcO"
   },
   "source": [
    "Escribe aquí tus conclusiones\n",
    "\n",
    "Se evidencia el ratio de reorder de cada producto"
   ]
  },
  {
   "cell_type": "markdown",
   "id": "subject-boxing",
   "metadata": {
    "id": "subject-boxing"
   },
   "source": [
    "### [C4] Para cada cliente, ¿qué proporción de sus productos ya los había pedido?"
   ]
  },
  {
   "cell_type": "code",
   "execution_count": 42,
   "id": "medical-couple",
   "metadata": {
    "colab": {
     "base_uri": "https://localhost:8080/"
    },
    "id": "medical-couple",
    "outputId": "8bbe67b1-54f8-46bd-bd6a-539affdc2c90",
    "scrolled": true
   },
   "outputs": [
    {
     "name": "stdout",
     "output_type": "stream",
     "text": [
      "         total_products  reordered_products  reorder_ratio\n",
      "user_id                                                   \n",
      "137587                3                   3            1.0\n",
      "173474                2                   2            1.0\n",
      "13918                 4                   4            1.0\n",
      "62300                 7                   7            1.0\n",
      "62307                 1                   1            1.0\n",
      "\n",
      "         total_products  reordered_products  reorder_ratio\n",
      "user_id                                                   \n",
      "143831              137                 136       0.992701\n",
      "196748              116                 115       0.991379\n",
      "5588                107                 106       0.990654\n",
      "4368                 92                  91       0.989130\n",
      "113113               89                  88       0.988764\n",
      "...                 ...                 ...            ...\n",
      "190953                9                   0       0.000000\n",
      "119371               10                   0       0.000000\n",
      "63173                 4                   0       0.000000\n",
      "63163                 3                   0       0.000000\n",
      "165726               11                   0       0.000000\n",
      "\n",
      "[141524 rows x 3 columns]\n",
      "        order_id  user_id  order_number  order_dow  order_hour_of_day  \\\n",
      "366788   2839346    63173             3          5                 18   \n",
      "\n",
      "        days_since_prior_order  \n",
      "366788                      30  \n",
      "\n",
      "         order_id  product_id  add_to_cart_order  reordered\n",
      "2105961   2839346       33632                  2          0\n",
      "2158696   2839346       12232                  1          0\n",
      "3627678   2839346       41966                  4          0\n",
      "3752743   2839346        7806                  3          0\n"
     ]
    }
   ],
   "source": [
    "# Primero unimos las bases instacart_orders y order_products utilizando la columna 'order_id'\n",
    "merged_data = instacart.merge(order_products, on='order_id', how='inner')\n",
    "# Agrupamos por cliente (user_id) para calcular las estadísticas necesarias\n",
    "user_reorder_stats = merged_data.groupby('user_id').agg(\n",
    "    total_products=('reordered', 'count'),   # Total de productos pedidos por cliente\n",
    "    reordered_products=('reordered', 'sum') # Total de productos que fueron reordenados\n",
    ")\n",
    "\n",
    "# Calculamos la proporción de productos reordenados sobre el total de productos\n",
    "user_reorder_stats['reorder_ratio'] = user_reorder_stats['reordered_products'] / user_reorder_stats['total_products']\n",
    "\n",
    "# Ordenamos por proporción de productos reordenados\n",
    "sorted_user_reorder_stats = user_reorder_stats.sort_values(by='reorder_ratio', ascending=False)\n",
    "print(sorted_user_reorder_stats.head())\n",
    "print()\n",
    "#Hacemos una prueba filtrando el ratio menos a 1 para ver los productos\n",
    "print(sorted_user_reorder_stats[sorted_user_reorder_stats['reorder_ratio'] < 1])\n",
    "#Filtramos usando el usuario 63173 comp prueba\n",
    "print(instacart[instacart['user_id'] ==63173])\n",
    "print()\n",
    "#Filtramos usando el numero de orden 2839346 de usuario 63173\n",
    "#Si vemos la orden, efectivamente ninguno de sus productos ha sido reordenado\n",
    "print(order_products[order_products['order_id'] ==2839346])"
   ]
  },
  {
   "cell_type": "markdown",
   "id": "BgJSvXDsleXz",
   "metadata": {
    "id": "BgJSvXDsleXz"
   },
   "source": [
    "Escribe aquí tus conclusione\n",
    "\n",
    "Se evidencia el ratio de reorder por usuario y por producto\n",
    "\n"
   ]
  },
  {
   "cell_type": "markdown",
   "id": "92d35137",
   "metadata": {
    "id": "92d35137"
   },
   "source": [
    "\n",
    "\n",
    "```\n",
    "# Tiene formato de código\n",
    "```\n",
    "\n",
    "### [C5] ¿Cuáles son los 20 principales artículos que las personas ponen primero en sus carritos?"
   ]
  },
  {
   "cell_type": "code",
   "execution_count": 43,
   "id": "0ae57274",
   "metadata": {
    "colab": {
     "base_uri": "https://localhost:8080/"
    },
    "id": "0ae57274",
    "outputId": "6b74857b-57ba-4202-c829-fbb5d7aad32f",
    "scrolled": true
   },
   "outputs": [
    {
     "name": "stdout",
     "output_type": "stream",
     "text": [
      "    product_id  count                 product_name\n",
      "0        24852  15562                       banana\n",
      "1        13176  11026       bag of organic bananas\n",
      "2        27845   4363           organic whole milk\n",
      "3        21137   3946         organic strawberries\n",
      "4        47209   3390         organic hass avocado\n",
      "5        21903   3336         organic baby spinach\n",
      "6        47766   3044              organic avocado\n",
      "7        19660   2336                 spring water\n",
      "8        16797   2308                 strawberries\n",
      "9        27966   2024          organic raspberries\n",
      "10       44632   1914   sparkling water grapefruit\n",
      "11       49235   1797          organic half & half\n",
      "12       47626   1737                  large lemon\n",
      "13         196   1733                         soda\n",
      "14       38689   1397     organic reduced fat milk\n",
      "15       26209   1370                        limes\n",
      "16       12341   1340                hass avocados\n",
      "17        5785   1310  organic reduced fat 2% milk\n",
      "18       27086   1309                  half & half\n",
      "19       43352   1246                  raspberries\n"
     ]
    }
   ],
   "source": [
    "# Filtramos los productos que fueron añadidos primero al carrito (add_to_cart_order == 1)\n",
    "first_in_cart = order_products[order_products['add_to_cart_order'] == 1]\n",
    "\n",
    "# Contamos cuántas veces cada producto fue el primero en el carrito\n",
    "first_in_cart_counts = first_in_cart['product_id'].value_counts().head(20)\n",
    "\n",
    "# Unimos con la tabla de productos para obtener los nombres de los productos\n",
    "top_20_first_products = first_in_cart_counts.reset_index()\n",
    "top_20_first_products.columns = ['product_id', 'count']\n",
    "top_20_first_products = top_20_first_products.merge(products[['product_id', 'product_name']], on='product_id')\n",
    "\n",
    "print(top_20_first_products)\n",
    "\n"
   ]
  },
  {
   "cell_type": "markdown",
   "id": "28ce9872",
   "metadata": {
    "id": "28ce9872"
   },
   "source": [
    "Escribe aquí tus conclusiones\n",
    "Como hemos visto, frutas y verduras son los productos que mas compran y que mas reordenan. A su vez, tambien son los productos que ponen de primero en el carrito.\n",
    "Al final tiene sentido porque evidenciamos que son los bienes de mayor necesidad para el usuario\n"
   ]
  },
  {
   "cell_type": "markdown",
   "id": "uITbFCEoDosC",
   "metadata": {
    "id": "uITbFCEoDosC"
   },
   "source": [
    "### Conclusion general del proyecto:\n",
    "\n",
    "Este proyecto se centró en el análisis de datos de pedidos de Instacart, abordando tres etapas clave: **descripción de los datos, preprocesamiento y análisis exploratorio**. A continuación, se resumen los logros y aprendizajes obtenidos:\n",
    "\n",
    "1. Descripción y comprensión de los datos\n",
    "Objetivo. Hallazgos:\n",
    "\n",
    "Se detectaron valores ausentes en columnas críticas como days_since_prior_order (28,819 ausentes), product_name (1,258 ausentes) y add_to_cart_order (836 ausentes).\n",
    "\n",
    "Variables como days_since_prior_order y add_to_cart_order presentaban tipos de datos incorrectos (float en lugar de enteros).\n",
    "\n",
    "Las tablas mostraban relaciones lógicas (ej: order_products vinculaba pedidos con productos).\n",
    "\n",
    "2. Preprocesamiento de datos\n",
    "Objetivo. Acciones realizadas:\n",
    "\n",
    "Corrección de tipos de datos: Columnas como days_since_prior_order y add_to_cart_order se convirtieron a enteros.\n",
    "\n",
    "Manejo de valores ausentes:\n",
    "\n",
    "product_name se completó con \"Unknown\" para registros faltantes.\n",
    "\n",
    "days_since_prior_order se asoció con el primer pedido de usuarios, validando su lógica.\n",
    "\n",
    "add_to_cart_order se reemplazó con 999 para indicar valores desconocidos.\n",
    "\n",
    "Eliminación de duplicados: Se removieron 15 registros duplicados en instacart_orders\n",
    "\n",
    "Limpieza de inconsistencias: Por ejemplo, productos duplicados en products con nombres idénticos pero IDs diferentes.\n",
    "\n",
    "3. Análisis exploratorio de datos. Hallazgos clave:\n",
    "\n",
    "Distribución:\n",
    "\n",
    "Horas pico: La mayoría de los pedidos se realizan entre las 10:00 y 16:00 horas.\n",
    "\n",
    "Días de la semana: Los días 0 (domingo) y 1 (lunes) registran mayor actividad, mientras que el miércoles (día 3) tiene menor demanda.\n",
    "\n",
    "Frecuencia de recompra:\n",
    "\n",
    "El 59% de los productos en order_products fueron reordenados, sugiriendo lealtad a marcas o artículos esenciales.\n",
    "\n",
    "Tiempo entre pedidos:\n",
    "\n",
    "El promedio fue de 11.1 días, con valores extremos (mínimo 0 días, máximo 30 días). Esto podría indicar compras recurrentes o estrategias de retención.\n",
    "\n",
    "4. Impacto y aplicaciones prácticas\n",
    "Los resultados permiten entender patrones de consumo, como horarios preferidos y productos recurrentes, útiles para optimizar:\n",
    "\n",
    "\n",
    "5. Lecciones aprendidas\n",
    "Calidad de datos: La identificación temprana de valores ausentes y duplicados fue crucial para evitar sesgos en el análisis.\n",
    "\n",
    "Flexibilidad en preprocesamiento: Soluciones como asignar \"Unknown\" o valores temporales (999) mantuvieron la integridad del dataset sin perder información crítica.\n",
    "\n",
    "Visualizaciones claras: Gráficos como histogramas y heatmaps facilitaron la comunicación de insights complejos.\n",
    "\n",
    "\n",
    "Conclusión final\n",
    "Este proyecto demostró la importancia de un procesamiento riguroso de datos y un análisis exploratorio estructurado para transformar información cruda en insights accionables. Los hallazgos no solo validan hipótesis iniciales (ej: horarios de compra), sino que también abren puertas a estrategias basadas en datos para mejorar la experiencia del usuario y la eficiencia operativa en plataformas como Instacart. El enfoque metodológico utilizado sirve como plantilla para abordar problemas similares en el ámbito del retail analítico.\n"
   ]
  }
 ],
 "metadata": {
  "colab": {
   "provenance": []
  },
  "kernelspec": {
   "display_name": "Python 3 (ipykernel)",
   "language": "python",
   "name": "python3"
  },
  "language_info": {
   "codemirror_mode": {
    "name": "ipython",
    "version": 3
   },
   "file_extension": ".py",
   "mimetype": "text/x-python",
   "name": "python",
   "nbconvert_exporter": "python",
   "pygments_lexer": "ipython3",
   "version": "3.12.2"
  },
  "toc": {
   "base_numbering": 1,
   "nav_menu": {},
   "number_sections": true,
   "sideBar": true,
   "skip_h1_title": true,
   "title_cell": "Table of Contents",
   "title_sidebar": "Contents",
   "toc_cell": false,
   "toc_position": {},
   "toc_section_display": true,
   "toc_window_display": false
  },
  "vscode": {
   "interpreter": {
    "hash": "01a7be9ec63e704a62cefc5fe7a4756944464ee731be31632bdf42a4cb4688cf"
   }
  }
 },
 "nbformat": 4,
 "nbformat_minor": 5
}
